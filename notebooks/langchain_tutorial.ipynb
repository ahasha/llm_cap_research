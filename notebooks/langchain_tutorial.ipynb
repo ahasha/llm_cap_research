{
 "cells": [
  {
   "cell_type": "code",
   "execution_count": 1,
   "metadata": {},
   "outputs": [
    {
     "data": {
      "text/plain": [
       "True"
      ]
     },
     "execution_count": 1,
     "metadata": {},
     "output_type": "execute_result"
    }
   ],
   "source": [
    "import dotenv\n",
    "import os\n",
    "\n",
    "dotenv_path = \"../.env\"\n",
    "dotenv.load_dotenv(dotenv_path)"
   ]
  },
  {
   "cell_type": "code",
   "execution_count": 2,
   "metadata": {},
   "outputs": [],
   "source": [
    "from langchain import PromptTemplate\n",
    "\n",
    "template = \"\"\"Question: {question}\n",
    "\n",
    "Answer: \"\"\"\n",
    "prompt = PromptTemplate(\n",
    "        template=template,\n",
    "    input_variables=['question']\n",
    ")\n",
    "\n",
    "# user question\n",
    "question = \"Which NFL team won the Super Bowl in the 2010 season?\""
   ]
  },
  {
   "cell_type": "code",
   "execution_count": 3,
   "metadata": {},
   "outputs": [
    {
     "data": {
      "text/plain": [
       "'Question: Which NFL team won the Super Bowl in the 2010 season?\\n\\nAnswer: '"
      ]
     },
     "execution_count": 3,
     "metadata": {},
     "output_type": "execute_result"
    }
   ],
   "source": [
    "prompt.format(question=question)"
   ]
  },
  {
   "cell_type": "code",
   "execution_count": 11,
   "metadata": {},
   "outputs": [
    {
     "name": "stderr",
     "output_type": "stream",
     "text": [
      "/Users/alexhasha/Library/Caches/pypoetry/virtualenvs/llm-learning-pi5fb6Qz-py3.11/lib/python3.11/site-packages/langchain_core/_api/deprecation.py:119: LangChainDeprecationWarning: The class `HuggingFaceEndpoint` was deprecated in LangChain 0.0.37 and will be removed in 0.3. An updated version of the class exists in the from langchain-huggingface package and should be used instead. To use it run `pip install -U from langchain-huggingface` and import as `from from langchain_huggingface import llms import HuggingFaceEndpoint`.\n",
      "  warn_deprecated(\n",
      "WARNING! max_length is not default parameter.\n",
      "                    max_length was transferred to model_kwargs.\n",
      "                    Please make sure that max_length is what you intended.\n",
      "WARNING! token is not default parameter.\n",
      "                    token was transferred to model_kwargs.\n",
      "                    Please make sure that token is what you intended.\n"
     ]
    },
    {
     "name": "stdout",
     "output_type": "stream",
     "text": [
      "The token has not been saved to the git credentials helper. Pass `add_to_git_credential=True` in this function directly or `--add-to-git-credential` if using via `huggingface-cli` if you want to set the git credential as well.\n",
      "Token is valid (permission: write).\n",
      "Your token has been saved to /Users/alexhasha/.cache/huggingface/token\n",
      "Login successful\n",
      " The New Orleans Saints won the Super Bowl XLIV in the 2010 season. They defeated the Indianapolis Colts with a score of 31-28. Drew Brees was the quarterback for the Saints and he was named the Super Bowl MVP. The game was played on February 7, 2010 at the Mercedes-Benz Superdome in New Orleans, Louisiana.\n"
     ]
    }
   ],
   "source": [
    "from langchain import HuggingFaceHub, LLMChain\n",
    "from langchain_community.llms import HuggingFaceEndpoint\n",
    "repo_id = \"mistralai/Mistral-7B-Instruct-v0.2\"\n",
    "\n",
    "llm = HuggingFaceEndpoint(\n",
    "    repo_id=repo_id, max_length=128, temperature=0.5, token=os.environ[\"HUGGINGFACEHUB_API_TOKEN\"]\n",
    ")\n",
    "llm_chain = LLMChain(prompt=prompt, llm=llm)"
   ]
  },
  {
   "cell_type": "code",
   "execution_count": 12,
   "metadata": {},
   "outputs": [
    {
     "name": "stdout",
     "output_type": "stream",
     "text": [
      " The New Orleans Saints won the Super Bowl XLIV in the 2010 season. They defeated the Indianapolis Colts with a score of 31-28. Drew Brees was the quarterback for the Saints and he was named the Super Bowl MVP. The game was played on February 7, 2010 at the Mercedes-Benz Superdome in New Orleans, Louisiana.\n"
     ]
    }
   ],
   "source": [
    "print(llm_chain.run(question))"
   ]
  },
  {
   "cell_type": "code",
   "execution_count": 13,
   "metadata": {},
   "outputs": [
    {
     "data": {
      "text/plain": [
       "LLMResult(generations=[[Generation(text=' The New Orleans Saints won the Super Bowl XLIV in the 2010 season. They defeated the Indianapolis Colts with a score of 31-28. Drew Brees was the quarterback for the Saints and he was named the Super Bowl MVP. The game was played on February 7, 2010 at the Mercedes-Benz Superdome in New Orleans, Louisiana.')], [Generation(text='193.04 centimeters. To convert inches to centimeters, you can use the conversion factor of 1 inch = 2.54 centimeters. So, 6 ft 4 inches = 6 * 12 inches + 4 inches = 76 inches = 76 * 2.54 cm = 193.04 cm.')], [Generation(text='12 people have walked on the moon as of now. They are: Neil Armstrong, Buzz Aldrin, Michael Collins (Apollo 11), Edwin \"Buzz\" Aldrin, Charles \"Pete\" Conrad, Alan Bean, Harrison Schmitt, James Irwin, David Scott, John Young, Charles Duke, and Eugene Cernan. So, there is no 12th person on the moon, but the list above includes all the people who have walked on the lunar surface.')], [Generation(text='0. A blade of grass is not a living organism with eyes. It is a simple structure made up of various plant parts, including leaves and roots. Eyes are complex organs found only in animals.')]], llm_output=None, run=[RunInfo(run_id=UUID('f7f30a16-24bf-4542-864c-3694138ad9e5')), RunInfo(run_id=UUID('f7c14cfd-d1ea-462c-9536-b1f516b930b8')), RunInfo(run_id=UUID('59bfd467-3751-48e8-bf8f-c6dbcd714167')), RunInfo(run_id=UUID('946c64e4-5ed6-4365-ab7a-e05901057828'))])"
      ]
     },
     "execution_count": 13,
     "metadata": {},
     "output_type": "execute_result"
    }
   ],
   "source": [
    "qs = [\n",
    "    {'question': \"Which NFL team won the Super Bowl in the 2010 season?\"},\n",
    "    {'question': \"If I am 6 ft 4 inches, how tall am I in centimeters?\"},\n",
    "    {'question': \"Who was the 12th person on the moon?\"},\n",
    "    {'question': \"How many eyes does a blade of grass have?\"}\n",
    "]\n",
    "res = llm_chain.generate(qs)\n",
    "res"
   ]
  },
  {
   "cell_type": "code",
   "execution_count": 3,
   "metadata": {},
   "outputs": [
    {
     "name": "stderr",
     "output_type": "stream",
     "text": [
      "/Users/alexhasha/Library/Caches/pypoetry/virtualenvs/llm-learning-pi5fb6Qz-py3.11/lib/python3.11/site-packages/langchain_core/_api/deprecation.py:119: LangChainDeprecationWarning: The class `OpenAI` was deprecated in LangChain 0.0.10 and will be removed in 0.3.0. An updated version of the class exists in the langchain-openai package and should be used instead. To use it run `pip install -U langchain-openai` and import as `from langchain_openai import OpenAI`.\n",
      "  warn_deprecated(\n",
      "/Users/alexhasha/Library/Caches/pypoetry/virtualenvs/llm-learning-pi5fb6Qz-py3.11/lib/python3.11/site-packages/langchain_core/_api/deprecation.py:119: LangChainDeprecationWarning: The method `BaseLLM.__call__` was deprecated in langchain-core 0.1.7 and will be removed in 0.3.0. Use invoke instead.\n",
      "  warn_deprecated(\n"
     ]
    },
    {
     "name": "stdout",
     "output_type": "stream",
     "text": [
      "\n",
      "\n",
      "1. A subscription to a data science online course or training program: This gift will allow the data scientist to continue learning and expanding their skills in the field. There are many options available, such as courses on machine learning, data visualization, or programming languages like Python or R.\n",
      "\n",
      "2. A high-quality data visualization tool: Data scientists often need to present their findings and insights in a visually appealing and easy-to-understand way. A subscription to a data visualization tool like Tableau or Power BI can help them create stunning and interactive visualizations for their data.\n",
      "\n",
      "3. A book on the latest trends and techniques in data science: Keeping up with the constantly evolving field of data science can be challenging. A book on the latest trends and techniques, such as \"Data Science for Business\" by Foster Provost and Tom Fawcett, can help the data scientist stay updated and improve their skills.\n"
     ]
    }
   ],
   "source": [
    "from langchain.llms import OpenAI\n",
    "llm = OpenAI(model_name=\"gpt-3.5-turbo-instruct\", temperature=0.01)\n",
    "print(llm(\"Suggest 3 bday gifts for a data scientist\"))"
   ]
  },
  {
   "cell_type": "code",
   "execution_count": null,
   "metadata": {},
   "outputs": [],
   "source": []
  }
 ],
 "metadata": {
  "kernelspec": {
   "display_name": "llm-learning-pi5fb6Qz-py3.11",
   "language": "python",
   "name": "python3"
  },
  "language_info": {
   "codemirror_mode": {
    "name": "ipython",
    "version": 3
   },
   "file_extension": ".py",
   "mimetype": "text/x-python",
   "name": "python",
   "nbconvert_exporter": "python",
   "pygments_lexer": "ipython3",
   "version": "3.11.6"
  }
 },
 "nbformat": 4,
 "nbformat_minor": 2
}
