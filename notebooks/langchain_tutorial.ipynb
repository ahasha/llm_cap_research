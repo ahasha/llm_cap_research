{
 "cells": [
  {
   "cell_type": "code",
   "execution_count": 1,
   "metadata": {},
   "outputs": [
    {
     "data": {
      "text/plain": [
       "True"
      ]
     },
     "execution_count": 1,
     "metadata": {},
     "output_type": "execute_result"
    }
   ],
   "source": [
    "import dotenv\n",
    "import os\n",
    "\n",
    "dotenv_path = \"../.env\"\n",
    "dotenv.load_dotenv(dotenv_path)"
   ]
  },
  {
   "cell_type": "markdown",
   "metadata": {},
   "source": [
    "## Basic api connectivity"
   ]
  },
  {
   "cell_type": "code",
   "execution_count": 2,
   "metadata": {},
   "outputs": [],
   "source": [
    "from langchain import PromptTemplate\n",
    "\n",
    "template = \"\"\"Question: {question}\n",
    "\n",
    "Answer: \"\"\"\n",
    "prompt = PromptTemplate(\n",
    "        template=template,\n",
    "    input_variables=['question']\n",
    ")\n",
    "\n",
    "# user question\n",
    "question = \"Which NFL team won the Super Bowl in the 2010 season?\""
   ]
  },
  {
   "cell_type": "code",
   "execution_count": 3,
   "metadata": {},
   "outputs": [
    {
     "data": {
      "text/plain": [
       "'Question: Which NFL team won the Super Bowl in the 2010 season?\\n\\nAnswer: '"
      ]
     },
     "execution_count": 3,
     "metadata": {},
     "output_type": "execute_result"
    }
   ],
   "source": [
    "prompt.format(question=question)"
   ]
  },
  {
   "cell_type": "code",
   "execution_count": 11,
   "metadata": {},
   "outputs": [
    {
     "name": "stderr",
     "output_type": "stream",
     "text": [
      "/Users/alexhasha/Library/Caches/pypoetry/virtualenvs/llm-learning-pi5fb6Qz-py3.11/lib/python3.11/site-packages/langchain_core/_api/deprecation.py:119: LangChainDeprecationWarning: The class `HuggingFaceEndpoint` was deprecated in LangChain 0.0.37 and will be removed in 0.3. An updated version of the class exists in the from langchain-huggingface package and should be used instead. To use it run `pip install -U from langchain-huggingface` and import as `from from langchain_huggingface import llms import HuggingFaceEndpoint`.\n",
      "  warn_deprecated(\n",
      "WARNING! max_length is not default parameter.\n",
      "                    max_length was transferred to model_kwargs.\n",
      "                    Please make sure that max_length is what you intended.\n",
      "WARNING! token is not default parameter.\n",
      "                    token was transferred to model_kwargs.\n",
      "                    Please make sure that token is what you intended.\n"
     ]
    },
    {
     "name": "stdout",
     "output_type": "stream",
     "text": [
      "The token has not been saved to the git credentials helper. Pass `add_to_git_credential=True` in this function directly or `--add-to-git-credential` if using via `huggingface-cli` if you want to set the git credential as well.\n",
      "Token is valid (permission: write).\n",
      "Your token has been saved to /Users/alexhasha/.cache/huggingface/token\n",
      "Login successful\n",
      " The New Orleans Saints won the Super Bowl XLIV in the 2010 season. They defeated the Indianapolis Colts with a score of 31-28. Drew Brees was the quarterback for the Saints and he was named the Super Bowl MVP. The game was played on February 7, 2010 at the Mercedes-Benz Superdome in New Orleans, Louisiana.\n"
     ]
    }
   ],
   "source": [
    "from langchain import HuggingFaceHub, LLMChain\n",
    "from langchain_community.llms import HuggingFaceEndpoint\n",
    "repo_id = \"mistralai/Mistral-7B-Instruct-v0.2\"\n",
    "\n",
    "llm = HuggingFaceEndpoint(\n",
    "    repo_id=repo_id, max_length=128, temperature=0.5, token=os.environ[\"HUGGINGFACEHUB_API_TOKEN\"]\n",
    ")\n",
    "llm_chain = LLMChain(prompt=prompt, llm=llm)"
   ]
  },
  {
   "cell_type": "code",
   "execution_count": 12,
   "metadata": {},
   "outputs": [
    {
     "name": "stdout",
     "output_type": "stream",
     "text": [
      " The New Orleans Saints won the Super Bowl XLIV in the 2010 season. They defeated the Indianapolis Colts with a score of 31-28. Drew Brees was the quarterback for the Saints and he was named the Super Bowl MVP. The game was played on February 7, 2010 at the Mercedes-Benz Superdome in New Orleans, Louisiana.\n"
     ]
    }
   ],
   "source": [
    "print(llm_chain.run(question))"
   ]
  },
  {
   "cell_type": "code",
   "execution_count": 13,
   "metadata": {},
   "outputs": [
    {
     "data": {
      "text/plain": [
       "LLMResult(generations=[[Generation(text=' The New Orleans Saints won the Super Bowl XLIV in the 2010 season. They defeated the Indianapolis Colts with a score of 31-28. Drew Brees was the quarterback for the Saints and he was named the Super Bowl MVP. The game was played on February 7, 2010 at the Mercedes-Benz Superdome in New Orleans, Louisiana.')], [Generation(text='193.04 centimeters. To convert inches to centimeters, you can use the conversion factor of 1 inch = 2.54 centimeters. So, 6 ft 4 inches = 6 * 12 inches + 4 inches = 76 inches = 76 * 2.54 cm = 193.04 cm.')], [Generation(text='12 people have walked on the moon as of now. They are: Neil Armstrong, Buzz Aldrin, Michael Collins (Apollo 11), Edwin \"Buzz\" Aldrin, Charles \"Pete\" Conrad, Alan Bean, Harrison Schmitt, James Irwin, David Scott, John Young, Charles Duke, and Eugene Cernan. So, there is no 12th person on the moon, but the list above includes all the people who have walked on the lunar surface.')], [Generation(text='0. A blade of grass is not a living organism with eyes. It is a simple structure made up of various plant parts, including leaves and roots. Eyes are complex organs found only in animals.')]], llm_output=None, run=[RunInfo(run_id=UUID('f7f30a16-24bf-4542-864c-3694138ad9e5')), RunInfo(run_id=UUID('f7c14cfd-d1ea-462c-9536-b1f516b930b8')), RunInfo(run_id=UUID('59bfd467-3751-48e8-bf8f-c6dbcd714167')), RunInfo(run_id=UUID('946c64e4-5ed6-4365-ab7a-e05901057828'))])"
      ]
     },
     "execution_count": 13,
     "metadata": {},
     "output_type": "execute_result"
    }
   ],
   "source": [
    "qs = [\n",
    "    {'question': \"Which NFL team won the Super Bowl in the 2010 season?\"},\n",
    "    {'question': \"If I am 6 ft 4 inches, how tall am I in centimeters?\"},\n",
    "    {'question': \"Who was the 12th person on the moon?\"},\n",
    "    {'question': \"How many eyes does a blade of grass have?\"}\n",
    "]\n",
    "res = llm_chain.generate(qs)\n",
    "res"
   ]
  },
  {
   "cell_type": "markdown",
   "metadata": {},
   "source": [
    "The instruct model is much more terse and concise, it just does what it is instructed to do.\n",
    "\n",
    "gpt-3.5-turbo is chatty, it will talk to you beyond what is asked.\n",
    "\n",
    "So, if you want a model to do something the instruct model will typically work better and use fewer tokens doing so.\n",
    "\n",
    "If you want a model to interact with users in a natural, conversational manner the chat model will be much better."
   ]
  },
  {
   "cell_type": "code",
   "execution_count": 6,
   "metadata": {},
   "outputs": [
    {
     "name": "stdout",
     "output_type": "stream",
     "text": [
      "\n",
      "\n",
      "The New Orleans Saints won the Super Bowl in 2010.\n"
     ]
    }
   ],
   "source": [
    "from langchain_openai import OpenAI\n",
    "llm = OpenAI(model_name=\"gpt-3.5-turbo-instruct\", temperature=0.01)\n",
    "print(llm(\"Tell me which NFL team won the Super Bowl in 2010?\"))"
   ]
  },
  {
   "cell_type": "markdown",
   "metadata": {},
   "source": [
    "## Document Extraction"
   ]
  },
  {
   "cell_type": "code",
   "execution_count": 2,
   "metadata": {},
   "outputs": [],
   "source": [
    "from typing import List, Optional\n",
    "from langchain_core.pydantic_v1 import BaseModel, Field\n",
    "from enum import Enum\n",
    "\n",
    "\n",
    "class EmissionsCategory(str, Enum):\n",
    "    Buildings = 'B'\n",
    "    Energy = 'E'\n",
    "    Transportation = 'T'\n",
    "    Waste = 'W'\n",
    "    LandUse = 'L'\n",
    "\n",
    "\n",
    "class Goal(BaseModel):\n",
    "    \"\"\"Information about a strategic planning Goal.\n",
    "\n",
    "    Goals are broad, quantifiable outcomes necessary to meet emissions targets and resilience goals.\n",
    "    \"\"\"\n",
    "    id: str = Field(description=\"Unique Identifier.  First category should be emissions_category letter.\")\n",
    "    emissions_category: EmissionsCategory = Field(description=\"The category of emissions the goal is associated with\")\n",
    "    year: Optional[int] = Field(default=None, description=\"The year of the goal\", ge=2024, le=2050)\n",
    "    description: str = Field(default=None, description=\"A description of the goal which should include a specific, measurable, and quantifiable outcome\")\n",
    "\n",
    "\n",
    "class Strategy(BaseModel):\n",
    "    \"\"\"Information about a strategic planning Strategy.\n",
    "\n",
    "    Strategies define general approaches to make progress toward goals.\n",
    "    They should be specific, but not necessarily quantifiable\n",
    "    \"\"\"\n",
    "    id: str = Field(description=\"Unique Identifier.  First category should be emissions_category letter.\")\n",
    "    emissions_category: EmissionsCategory = Field(description=\"The category of emissions the strategy is associated with\")\n",
    "    related_goals: List[str] = Field(description=\"A list of goal ids that this strategy is related to\")\n",
    "    description: str = Field(default=None, description=\"A description of the strategy\")\n",
    "\n",
    "class Action(BaseModel):\n",
    "    \"\"\"Information about a strategic planning Action.\n",
    "\n",
    "    Actions are specific, time-bound steps to implement strategies\n",
    "    \"\"\"\n",
    "    id: str = Field(description=\"Unique Identifier.  First category should be emissions_category letter.\")\n",
    "    emissions_category: EmissionsCategory = Field(description=\"The category of emissions the strategy is associated with\")\n",
    "    owner: Optional[str] = Field(default=None, description=\"The organization or individual responsible for the action, if known\")\n",
    "    related_stragegies: List[str] = Field(description=\"A list of strategy ids that this strategy is related to\")\n",
    "    description: str = Field(default=None, description=\"A description of the action\")\n",
    "\n",
    "\n",
    "class Results(BaseModel):\n",
    "    goals: List[Goal]\n",
    "    strategies: List[Strategy]\n",
    "    actions: List[Action]"
   ]
  },
  {
   "cell_type": "code",
   "execution_count": 9,
   "metadata": {},
   "outputs": [],
   "source": [
    "from langchain_core.prompts import ChatPromptTemplate, MessagesPlaceholder\n",
    "\n",
    "# Define a custom prompt to provide instructions and any additional context.\n",
    "# 1) You can add examples into the prompt template to improve extraction quality\n",
    "# 2) Introduce additional parameters to take context into account (e.g., include metadata\n",
    "#    about the document from which the text was extracted.)\n",
    "prompt = ChatPromptTemplate.from_messages(\n",
    "    [\n",
    "        (\n",
    "            \"system\",\n",
    "            \"You are an expert municipal climate action planner \"\n",
    "            \"Only extract relevant information from the text. \"\n",
    "            \"\"\"Your task is to read through the provided Climate Action Plan document and extract the following\n",
    "            information for each input:\n",
    "            1. Emissions reductions Goals;\n",
    "            2. Strategies articulated to achieve the goals;\n",
    "            3. Action items defined relative to the Strategies; \"\"\"\n",
    "            \"If you do not know the value of an attribute asked to extract, return null for the attribute's value.\"\n",
    "            \"The same text cannot be both a goal and a strategy.  Please do your best to distinguish them based on their definitions.\"\n",
    "        ),\n",
    "        # Please see the how-to about improving performance with\n",
    "        # reference examples.\n",
    "        # MessagesPlaceholder('examples'),\n",
    "        (\"human\", \"{text}\"),\n",
    "    ]\n",
    ")"
   ]
  },
  {
   "cell_type": "code",
   "execution_count": 15,
   "metadata": {},
   "outputs": [],
   "source": [
    "from langchain_openai import ChatOpenAI\n",
    "\n",
    "#llm = ChatMistralAI(model=\"mistral-large-latest\", temperature=0)\n",
    "llm = ChatOpenAI(model=\"gpt-3.5-turbo-0125\", temperature=0)\n",
    "\n",
    "runnable = prompt | llm.with_structured_output(schema=Results)"
   ]
  },
  {
   "cell_type": "code",
   "execution_count": 4,
   "metadata": {},
   "outputs": [],
   "source": [
    "text = \"\"\"OUR HOMES AND BUSINESSES\n",
    "Making our homes and buildings super-efficient and electrifying our\n",
    "space and water heating and cooking are core to Melrose’s Net\n",
    "Zero Action Plan. The City of Melrose commits to implementing\n",
    "actions that advance the following strategies:\n",
    "Strategy 1. Electrify fossil-fuel end uses.\n",
    "Strategy 2. Maximize uptake of residential energy efficiency\n",
    "and deep energy retrofits in existing buildings.\n",
    "Strategy 3. Target energy efficiency retrofits of large multi-\n",
    "family buildings.\n",
    "Strategy 4. Adopt policies to Incentivize energy efficiency and\n",
    "renewable energy in new construction and major\n",
    "renovations.\n",
    "Strategy 5. Lead by example with municipal buildings and\n",
    "advocate for net zero building policies.\n",
    "INFOGRAPHIC CREDIT: MASSACHUSETTS CLEAN ENERGY CENTER\n",
    "Melrose’s Net Zero Action Plan\n",
    "20\n",
    "In Melrose, 60 percent of building-related emissions result from the use of home\n",
    "heating fuels like natural gas and fuel oil. Businesses and industry in Melrose rely\n",
    "less heavily on fuel oil, but the use of natural gas and fuel oil still contribute\n",
    "another 14 percent of building-related emissions. Melrose’s older housing stock\n",
    "means the vast majority of homes were built before modern insulation and air\n",
    "sealing practices and can benefit from weatherization and energy retrofits.\n",
    "Burning oil and natural gas to heat our homes and cook our food creates 66,421\n",
    "metric tons of emissions every year in Melrose. It also creates pollution both inside\n",
    "and outdoors. In fact, recent studies have shown that methane leaks from gas-\n",
    "burning stoves is far worse than previously thought.\"\"\""
   ]
  },
  {
   "cell_type": "code",
   "execution_count": 16,
   "metadata": {},
   "outputs": [
    {
     "data": {
      "text/plain": [
       "Results(goals=[Goal(id='E1', emissions_category=<EmissionsCategory.Energy: 'E'>, year=None, description='Electrify fossil-fuel end uses'), Goal(id='E2', emissions_category=<EmissionsCategory.Energy: 'E'>, year=None, description='Maximize uptake of residential energy efficiency and deep energy retrofits in existing buildings'), Goal(id='E3', emissions_category=<EmissionsCategory.Energy: 'E'>, year=None, description='Target energy efficiency retrofits of large multi-family buildings'), Goal(id='E4', emissions_category=<EmissionsCategory.Energy: 'E'>, year=None, description='Adopt policies to incentivize energy efficiency and renewable energy in new construction and major renovations'), Goal(id='E5', emissions_category=<EmissionsCategory.Energy: 'E'>, year=None, description='Lead by example with municipal buildings and advocate for net zero building policies')], stragegies=[Strategy(id='E1', emissions_category=<EmissionsCategory.Energy: 'E'>, related_goals=['E1'], description='Electrify fossil-fuel end uses'), Strategy(id='E2', emissions_category=<EmissionsCategory.Energy: 'E'>, related_goals=['E2'], description='Maximize uptake of residential energy efficiency and deep energy retrofits in existing buildings'), Strategy(id='E3', emissions_category=<EmissionsCategory.Energy: 'E'>, related_goals=['E2'], description='Target energy efficiency retrofits of large multi-family buildings'), Strategy(id='E4', emissions_category=<EmissionsCategory.Energy: 'E'>, related_goals=['E4'], description='Adopt policies to incentivize energy efficiency and renewable energy in new construction and major renovations'), Strategy(id='E5', emissions_category=<EmissionsCategory.Energy: 'E'>, related_goals=['E5'], description='Lead by example with municipal buildings and advocate for net zero building policies')], actions=[Action(id='E1', emissions_category=<EmissionsCategory.Energy: 'E'>, owner=None, related_stragegies=['E1'], description='Implement actions to electrify fossil-fuel end uses'), Action(id='E2', emissions_category=<EmissionsCategory.Energy: 'E'>, owner=None, related_stragegies=['E2'], description='Implement actions to maximize uptake of residential energy efficiency and deep energy retrofits in existing buildings'), Action(id='E3', emissions_category=<EmissionsCategory.Energy: 'E'>, owner=None, related_stragegies=['E3'], description='Implement actions to target energy efficiency retrofits of large multi-family buildings'), Action(id='E4', emissions_category=<EmissionsCategory.Energy: 'E'>, owner=None, related_stragegies=['E4'], description='Implement actions to adopt policies to incentivize energy efficiency and renewable energy in new construction and major renovations'), Action(id='E5', emissions_category=<EmissionsCategory.Energy: 'E'>, owner=None, related_stragegies=['E5'], description='Implement actions to lead by example with municipal buildings and advocate for net zero building policies')])"
      ]
     },
     "execution_count": 16,
     "metadata": {},
     "output_type": "execute_result"
    }
   ],
   "source": [
    "runnable.invoke({\"text\": text})"
   ]
  },
  {
   "cell_type": "code",
   "execution_count": 17,
   "metadata": {},
   "outputs": [],
   "source": [
    "result = Out[16]"
   ]
  },
  {
   "cell_type": "code",
   "execution_count": 18,
   "metadata": {},
   "outputs": [
    {
     "data": {
      "text/plain": [
       "[Goal(id='E1', emissions_category=<EmissionsCategory.Energy: 'E'>, year=None, description='Electrify fossil-fuel end uses'),\n",
       " Goal(id='E2', emissions_category=<EmissionsCategory.Energy: 'E'>, year=None, description='Maximize uptake of residential energy efficiency and deep energy retrofits in existing buildings'),\n",
       " Goal(id='E3', emissions_category=<EmissionsCategory.Energy: 'E'>, year=None, description='Target energy efficiency retrofits of large multi-family buildings'),\n",
       " Goal(id='E4', emissions_category=<EmissionsCategory.Energy: 'E'>, year=None, description='Adopt policies to incentivize energy efficiency and renewable energy in new construction and major renovations'),\n",
       " Goal(id='E5', emissions_category=<EmissionsCategory.Energy: 'E'>, year=None, description='Lead by example with municipal buildings and advocate for net zero building policies')]"
      ]
     },
     "execution_count": 18,
     "metadata": {},
     "output_type": "execute_result"
    }
   ],
   "source": [
    "result.goals"
   ]
  },
  {
   "cell_type": "code",
   "execution_count": 19,
   "metadata": {},
   "outputs": [
    {
     "data": {
      "text/plain": [
       "[Action(id='E1', emissions_category=<EmissionsCategory.Energy: 'E'>, owner=None, related_stragegies=['E1'], description='Implement actions to electrify fossil-fuel end uses'),\n",
       " Action(id='E2', emissions_category=<EmissionsCategory.Energy: 'E'>, owner=None, related_stragegies=['E2'], description='Implement actions to maximize uptake of residential energy efficiency and deep energy retrofits in existing buildings'),\n",
       " Action(id='E3', emissions_category=<EmissionsCategory.Energy: 'E'>, owner=None, related_stragegies=['E3'], description='Implement actions to target energy efficiency retrofits of large multi-family buildings'),\n",
       " Action(id='E4', emissions_category=<EmissionsCategory.Energy: 'E'>, owner=None, related_stragegies=['E4'], description='Implement actions to adopt policies to incentivize energy efficiency and renewable energy in new construction and major renovations'),\n",
       " Action(id='E5', emissions_category=<EmissionsCategory.Energy: 'E'>, owner=None, related_stragegies=['E5'], description='Implement actions to lead by example with municipal buildings and advocate for net zero building policies')]"
      ]
     },
     "execution_count": 19,
     "metadata": {},
     "output_type": "execute_result"
    }
   ],
   "source": [
    "result.actions"
   ]
  },
  {
   "cell_type": "code",
   "execution_count": 22,
   "metadata": {},
   "outputs": [
    {
     "data": {
      "text/plain": [
       "[Strategy(id='E1', emissions_category=<EmissionsCategory.Energy: 'E'>, related_goals=['E1'], description='Electrify fossil-fuel end uses'),\n",
       " Strategy(id='E2', emissions_category=<EmissionsCategory.Energy: 'E'>, related_goals=['E2'], description='Maximize uptake of residential energy efficiency and deep energy retrofits in existing buildings'),\n",
       " Strategy(id='E3', emissions_category=<EmissionsCategory.Energy: 'E'>, related_goals=['E2'], description='Target energy efficiency retrofits of large multi-family buildings'),\n",
       " Strategy(id='E4', emissions_category=<EmissionsCategory.Energy: 'E'>, related_goals=['E4'], description='Adopt policies to incentivize energy efficiency and renewable energy in new construction and major renovations'),\n",
       " Strategy(id='E5', emissions_category=<EmissionsCategory.Energy: 'E'>, related_goals=['E5'], description='Lead by example with municipal buildings and advocate for net zero building policies')]"
      ]
     },
     "execution_count": 22,
     "metadata": {},
     "output_type": "execute_result"
    }
   ],
   "source": [
    "result.stragegies"
   ]
  },
  {
   "cell_type": "code",
   "execution_count": 10,
   "metadata": {},
   "outputs": [],
   "source": [
    "from langchain_openai import ChatOpenAI\n",
    "\n",
    "llm2 = ChatOpenAI(model=\"gpt-4-turbo\", temperature=0)\n",
    "\n",
    "runnable2 = prompt | llm2.with_structured_output(schema=Results)"
   ]
  },
  {
   "cell_type": "code",
   "execution_count": 12,
   "metadata": {},
   "outputs": [],
   "source": [
    "result2 = runnable2.invoke({\"text\": text})"
   ]
  },
  {
   "cell_type": "code",
   "execution_count": 13,
   "metadata": {},
   "outputs": [
    {
     "data": {
      "text/plain": [
       "[Goal(id='B2030', emissions_category=<EmissionsCategory.Buildings: 'B'>, year=2030, description='Achieve net zero emissions from buildings by 2030.')]"
      ]
     },
     "execution_count": 13,
     "metadata": {},
     "output_type": "execute_result"
    }
   ],
   "source": [
    "result2.goals"
   ]
  },
  {
   "cell_type": "code",
   "execution_count": 15,
   "metadata": {},
   "outputs": [
    {
     "data": {
      "text/plain": [
       "[Strategy(id='B1', emissions_category=<EmissionsCategory.Buildings: 'B'>, related_goals=['B2030'], description='Electrify fossil-fuel end uses.'),\n",
       " Strategy(id='B2', emissions_category=<EmissionsCategory.Buildings: 'B'>, related_goals=['B2030'], description='Maximize uptake of residential energy efficiency and deep energy retrofits in existing buildings.'),\n",
       " Strategy(id='B3', emissions_category=<EmissionsCategory.Buildings: 'B'>, related_goals=['B2030'], description='Target energy efficiency retrofits of large multi-family buildings.'),\n",
       " Strategy(id='B4', emissions_category=<EmissionsCategory.Buildings: 'B'>, related_goals=['B2030'], description='Adopt policies to incentivize energy efficiency and renewable energy in new construction and major renovations.'),\n",
       " Strategy(id='B5', emissions_category=<EmissionsCategory.Buildings: 'B'>, related_goals=['B2030'], description='Lead by example with municipal buildings and advocate for net zero building policies.')]"
      ]
     },
     "execution_count": 15,
     "metadata": {},
     "output_type": "execute_result"
    }
   ],
   "source": [
    "result2.strategies"
   ]
  },
  {
   "cell_type": "code",
   "execution_count": 16,
   "metadata": {},
   "outputs": [
    {
     "data": {
      "text/plain": [
       "[]"
      ]
     },
     "execution_count": 16,
     "metadata": {},
     "output_type": "execute_result"
    }
   ],
   "source": [
    "result2.actions"
   ]
  },
  {
   "cell_type": "markdown",
   "metadata": {},
   "source": [
    "## Handling Documents\n",
    "\n",
    "The following is from LangChain tutorial: https://python.langchain.com/v0.1/docs/use_cases/extraction/how_to/handle_files/"
   ]
  },
  {
   "cell_type": "code",
   "execution_count": 29,
   "metadata": {},
   "outputs": [
    {
     "data": {
      "text/plain": [
       "b'%PDF-1.5\\r%\\xe2\\xe3\\xcf\\xd3\\r\\n106 '"
      ]
     },
     "execution_count": 29,
     "metadata": {},
     "output_type": "execute_result"
    }
   ],
   "source": [
    "import requests\n",
    "\n",
    "AMHERST_URL = \"https://secureservercdn.net/50.62.195.83/env.320.myftpupload.com/wp-content/uploads/2021/09/Amherst_7.a.-CAARP-Final_061721-2.pdf\"\n",
    "URL = \"https://www.wayland.ma.us/sites/g/files/vyhlif9231/f/uploads/wayland_climate_action_plan_june_2022_2.pdf\"\n",
    "\n",
    "response = requests.get(URL)\n",
    "data = response.content\n",
    "data[:20]"
   ]
  },
  {
   "cell_type": "code",
   "execution_count": 60,
   "metadata": {},
   "outputs": [],
   "source": [
    "from langchain_community.document_loaders import PyMuPDFLoader"
   ]
  },
  {
   "cell_type": "code",
   "execution_count": 49,
   "metadata": {},
   "outputs": [],
   "source": [
    "loader = PyMuPDFLoader(URL)"
   ]
  },
  {
   "cell_type": "code",
   "execution_count": 50,
   "metadata": {},
   "outputs": [],
   "source": [
    "data = loader.load_and_split()"
   ]
  },
  {
   "cell_type": "code",
   "execution_count": 51,
   "metadata": {},
   "outputs": [
    {
     "data": {
      "text/plain": [
       "13"
      ]
     },
     "execution_count": 51,
     "metadata": {},
     "output_type": "execute_result"
    }
   ],
   "source": [
    "len(data)"
   ]
  },
  {
   "cell_type": "code",
   "execution_count": 53,
   "metadata": {},
   "outputs": [],
   "source": [
    "from langchain_community.vectorstores import FAISS\n",
    "from langchain_openai import OpenAIEmbeddings\n",
    "\n",
    "faiss_index = FAISS.from_documents(data, OpenAIEmbeddings())"
   ]
  },
  {
   "cell_type": "code",
   "execution_count": 57,
   "metadata": {},
   "outputs": [
    {
     "name": "stdout",
     "output_type": "stream",
     "text": [
      "4: 4 | P a g e  \n",
      "system or vehicle, we envision a climate program that helps to reduce the time, effort, and uncertainty in \n",
      "finding electrically sourced heat pumps and EVs . We envision a plan to help people find vetted, quality \n",
      "energy efficiency services; to provide guidance to climate‐benefitting a\n",
      "3: 3 | P a g e  \n",
      "world from getting much warmer to prevent warming greater than 1.5°C (equivalent to 2.7°F) above pre‐\n",
      "industrial world temperatures. We currently are at 1.1°C (2°F) above pre‐industrial world temperatures.   \n",
      "If we collectively act quickly and boldly to adapt and mitigate our emissions\n",
      "5: funding  to  support  municipalities  and  residents  in  taking  decarbonization  efforts  and  achieve \n",
      "environmental justice goals.\n",
      "10: 10 | P a g e  \n",
      "VI. Food and Waste \n",
      "Our eating habits (agriculture) are a major contributor to carbon emissions. Reducing \n",
      "our “food print” is an easy and impactful way to take climate action, with many \n",
      "added benefits to human and ecosystem health, stronger local economies, and \n",
      "community. Reducing,\n"
     ]
    }
   ],
   "source": [
    "docs = faiss_index.similarity_search(\"Goals\")\n",
    "for doc in docs:\n",
    "    print(str(doc.metadata[\"page\"]) + \":\", doc.page_content[:300])"
   ]
  },
  {
   "cell_type": "code",
   "execution_count": 58,
   "metadata": {},
   "outputs": [
    {
     "data": {
      "text/plain": [
       "4"
      ]
     },
     "execution_count": 58,
     "metadata": {},
     "output_type": "execute_result"
    }
   ],
   "source": [
    "len(docs)"
   ]
  },
  {
   "cell_type": "code",
   "execution_count": null,
   "metadata": {},
   "outputs": [],
   "source": []
  }
 ],
 "metadata": {
  "kernelspec": {
   "display_name": "llm-learning-pi5fb6Qz-py3.11",
   "language": "python",
   "name": "python3"
  },
  "language_info": {
   "codemirror_mode": {
    "name": "ipython",
    "version": 3
   },
   "file_extension": ".py",
   "mimetype": "text/x-python",
   "name": "python",
   "nbconvert_exporter": "python",
   "pygments_lexer": "ipython3",
   "version": "3.11.6"
  }
 },
 "nbformat": 4,
 "nbformat_minor": 2
}
