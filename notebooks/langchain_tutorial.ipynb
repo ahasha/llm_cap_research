{
 "cells": [
  {
   "cell_type": "code",
   "execution_count": 1,
   "metadata": {},
   "outputs": [
    {
     "data": {
      "text/plain": [
       "True"
      ]
     },
     "execution_count": 1,
     "metadata": {},
     "output_type": "execute_result"
    }
   ],
   "source": [
    "import dotenv\n",
    "import os\n",
    "\n",
    "dotenv_path = \"../.env\"\n",
    "dotenv.load_dotenv(dotenv_path)"
   ]
  },
  {
   "cell_type": "markdown",
   "metadata": {},
   "source": [
    "## Basic api connectivity"
   ]
  },
  {
   "cell_type": "code",
   "execution_count": 2,
   "metadata": {},
   "outputs": [],
   "source": [
    "from langchain import PromptTemplate\n",
    "\n",
    "template = \"\"\"Question: {question}\n",
    "\n",
    "Answer: \"\"\"\n",
    "prompt = PromptTemplate(\n",
    "        template=template,\n",
    "    input_variables=['question']\n",
    ")\n",
    "\n",
    "# user question\n",
    "question = \"Which NFL team won the Super Bowl in the 2010 season?\""
   ]
  },
  {
   "cell_type": "code",
   "execution_count": 3,
   "metadata": {},
   "outputs": [
    {
     "data": {
      "text/plain": [
       "'Question: Which NFL team won the Super Bowl in the 2010 season?\\n\\nAnswer: '"
      ]
     },
     "execution_count": 3,
     "metadata": {},
     "output_type": "execute_result"
    }
   ],
   "source": [
    "prompt.format(question=question)"
   ]
  },
  {
   "cell_type": "code",
   "execution_count": 11,
   "metadata": {},
   "outputs": [
    {
     "name": "stderr",
     "output_type": "stream",
     "text": [
      "/Users/alexhasha/Library/Caches/pypoetry/virtualenvs/llm-learning-pi5fb6Qz-py3.11/lib/python3.11/site-packages/langchain_core/_api/deprecation.py:119: LangChainDeprecationWarning: The class `HuggingFaceEndpoint` was deprecated in LangChain 0.0.37 and will be removed in 0.3. An updated version of the class exists in the from langchain-huggingface package and should be used instead. To use it run `pip install -U from langchain-huggingface` and import as `from from langchain_huggingface import llms import HuggingFaceEndpoint`.\n",
      "  warn_deprecated(\n",
      "WARNING! max_length is not default parameter.\n",
      "                    max_length was transferred to model_kwargs.\n",
      "                    Please make sure that max_length is what you intended.\n",
      "WARNING! token is not default parameter.\n",
      "                    token was transferred to model_kwargs.\n",
      "                    Please make sure that token is what you intended.\n"
     ]
    },
    {
     "name": "stdout",
     "output_type": "stream",
     "text": [
      "The token has not been saved to the git credentials helper. Pass `add_to_git_credential=True` in this function directly or `--add-to-git-credential` if using via `huggingface-cli` if you want to set the git credential as well.\n",
      "Token is valid (permission: write).\n",
      "Your token has been saved to /Users/alexhasha/.cache/huggingface/token\n",
      "Login successful\n",
      " The New Orleans Saints won the Super Bowl XLIV in the 2010 season. They defeated the Indianapolis Colts with a score of 31-28. Drew Brees was the quarterback for the Saints and he was named the Super Bowl MVP. The game was played on February 7, 2010 at the Mercedes-Benz Superdome in New Orleans, Louisiana.\n"
     ]
    }
   ],
   "source": [
    "from langchain import HuggingFaceHub, LLMChain\n",
    "from langchain_community.llms import HuggingFaceEndpoint\n",
    "repo_id = \"mistralai/Mistral-7B-Instruct-v0.2\"\n",
    "\n",
    "llm = HuggingFaceEndpoint(\n",
    "    repo_id=repo_id, max_length=128, temperature=0.5, token=os.environ[\"HUGGINGFACEHUB_API_TOKEN\"]\n",
    ")\n",
    "llm_chain = LLMChain(prompt=prompt, llm=llm)"
   ]
  },
  {
   "cell_type": "code",
   "execution_count": 12,
   "metadata": {},
   "outputs": [
    {
     "name": "stdout",
     "output_type": "stream",
     "text": [
      " The New Orleans Saints won the Super Bowl XLIV in the 2010 season. They defeated the Indianapolis Colts with a score of 31-28. Drew Brees was the quarterback for the Saints and he was named the Super Bowl MVP. The game was played on February 7, 2010 at the Mercedes-Benz Superdome in New Orleans, Louisiana.\n"
     ]
    }
   ],
   "source": [
    "print(llm_chain.run(question))"
   ]
  },
  {
   "cell_type": "code",
   "execution_count": 13,
   "metadata": {},
   "outputs": [
    {
     "data": {
      "text/plain": [
       "LLMResult(generations=[[Generation(text=' The New Orleans Saints won the Super Bowl XLIV in the 2010 season. They defeated the Indianapolis Colts with a score of 31-28. Drew Brees was the quarterback for the Saints and he was named the Super Bowl MVP. The game was played on February 7, 2010 at the Mercedes-Benz Superdome in New Orleans, Louisiana.')], [Generation(text='193.04 centimeters. To convert inches to centimeters, you can use the conversion factor of 1 inch = 2.54 centimeters. So, 6 ft 4 inches = 6 * 12 inches + 4 inches = 76 inches = 76 * 2.54 cm = 193.04 cm.')], [Generation(text='12 people have walked on the moon as of now. They are: Neil Armstrong, Buzz Aldrin, Michael Collins (Apollo 11), Edwin \"Buzz\" Aldrin, Charles \"Pete\" Conrad, Alan Bean, Harrison Schmitt, James Irwin, David Scott, John Young, Charles Duke, and Eugene Cernan. So, there is no 12th person on the moon, but the list above includes all the people who have walked on the lunar surface.')], [Generation(text='0. A blade of grass is not a living organism with eyes. It is a simple structure made up of various plant parts, including leaves and roots. Eyes are complex organs found only in animals.')]], llm_output=None, run=[RunInfo(run_id=UUID('f7f30a16-24bf-4542-864c-3694138ad9e5')), RunInfo(run_id=UUID('f7c14cfd-d1ea-462c-9536-b1f516b930b8')), RunInfo(run_id=UUID('59bfd467-3751-48e8-bf8f-c6dbcd714167')), RunInfo(run_id=UUID('946c64e4-5ed6-4365-ab7a-e05901057828'))])"
      ]
     },
     "execution_count": 13,
     "metadata": {},
     "output_type": "execute_result"
    }
   ],
   "source": [
    "qs = [\n",
    "    {'question': \"Which NFL team won the Super Bowl in the 2010 season?\"},\n",
    "    {'question': \"If I am 6 ft 4 inches, how tall am I in centimeters?\"},\n",
    "    {'question': \"Who was the 12th person on the moon?\"},\n",
    "    {'question': \"How many eyes does a blade of grass have?\"}\n",
    "]\n",
    "res = llm_chain.generate(qs)\n",
    "res"
   ]
  },
  {
   "cell_type": "markdown",
   "metadata": {},
   "source": [
    "The instruct model is much more terse and concise, it just does what it is instructed to do.\n",
    "\n",
    "gpt-3.5-turbo is chatty, it will talk to you beyond what is asked.\n",
    "\n",
    "So, if you want a model to do something the instruct model will typically work better and use fewer tokens doing so.\n",
    "\n",
    "If you want a model to interact with users in a natural, conversational manner the chat model will be much better."
   ]
  },
  {
   "cell_type": "code",
   "execution_count": 6,
   "metadata": {},
   "outputs": [
    {
     "name": "stdout",
     "output_type": "stream",
     "text": [
      "\n",
      "\n",
      "The New Orleans Saints won the Super Bowl in 2010.\n"
     ]
    }
   ],
   "source": [
    "from langchain_openai import OpenAI\n",
    "llm = OpenAI(model_name=\"gpt-3.5-turbo-instruct\", temperature=0.01)\n",
    "print(llm(\"Tell me which NFL team won the Super Bowl in 2010?\"))"
   ]
  },
  {
   "cell_type": "markdown",
   "metadata": {},
   "source": [
    "## Document Extraction"
   ]
  },
  {
   "cell_type": "code",
   "execution_count": 3,
   "metadata": {},
   "outputs": [],
   "source": [
    "from typing import List, Optional\n",
    "from langchain_core.pydantic_v1 import BaseModel, Field\n",
    "from enum import Enum\n",
    "\n",
    "\n",
    "class EmissionsCategory(str, Enum):\n",
    "    Buildings = 'B'\n",
    "    Energy = 'E'\n",
    "    Transportation = 'T'\n",
    "    Waste = 'W'\n",
    "    LandUse = 'L'\n",
    "\n",
    "\n",
    "class Goal(BaseModel):\n",
    "    \"\"\"Information about a strategic planning Goal.\n",
    "\n",
    "    Goals are broad, quantifiable outcomes necessary to meet emissions targets and resilience goals.\n",
    "    \"\"\"\n",
    "    id: str = Field(description=\"Unique Identifier.  If a Goal ID is given in the text, use this.  Otherwise, the first letter should be emissions_category letter.\")\n",
    "    emissions_category: EmissionsCategory = Field(description=\"The category of emissions the goal is associated with\")\n",
    "    year: Optional[int] = Field(default=None, description=\"The year by which the goal should be achieved.\", ge=2024, le=2050)\n",
    "    description: str = Field(default=None, description=\"A description of the goal which should include a specific, measurable, and quantifiable outcome\")\n",
    "\n",
    "\n",
    "class Strategy(BaseModel):\n",
    "    \"\"\"Information about a strategic planning Strategy.\n",
    "\n",
    "    Strategies define general approaches to make progress toward goals.\n",
    "    They should be specific, but ned not necessarily be quantifiable.\n",
    "    They are frequently explicitly labeled as a \"Strategy\" in the text.\n",
    "    However, they are often described as \"goals\" with no associated quantifiable outcome.\n",
    "    \"\"\"\n",
    "    id: str = Field(description=\"Unique Identifier.  If a Strategy ID is given in the text, use this.  Otherwise, the first letter should be emissions_category letter.\")\n",
    "    emissions_category: EmissionsCategory = Field(description=\"The category of emissions the strategy is associated with\")\n",
    "    related_goals: List[str] = Field(description=\"A list of goal ids that this strategy is related to\")\n",
    "    description: str = Field(default=None, description=\"A description of the strategy\")\n",
    "\n",
    "class Action(BaseModel):\n",
    "    \"\"\"Information about a strategic planning Action.\n",
    "\n",
    "    Actions are specific, time-bound steps to implement strategies.\n",
    "    \"\"\"\n",
    "    id: str = Field(description=\"Unique Identifier.  First category should be emissions_category letter.\")\n",
    "    emissions_category: EmissionsCategory = Field(description=\"The category of emissions the strategy is associated with\")\n",
    "    owner: Optional[str] = Field(default=None, description=\"The organization or individuals responsible for the action, if known\")\n",
    "    related_stragegies: List[str] = Field(description=\"A list of strategy ids that this strategy is related to\")\n",
    "    description: str = Field(default=None, description=\"A description of the action\")\n",
    "\n",
    "\n",
    "class Results(BaseModel):\n",
    "    goals: List[Goal]\n",
    "    strategies: List[Strategy]\n",
    "    actions: List[Action]\n",
    "\n",
    "import pandas as pd\n",
    "\n",
    "def results_to_dataframes(results):\n",
    "    goals_df = pd.DataFrame(results.goals)\n",
    "    strategies_df = pd.DataFrame(results.strategies)\n",
    "    actions_df = pd.DataFrame(results.actions)\n",
    "\n",
    "    return goals_df, strategies_df, actions_df"
   ]
  },
  {
   "cell_type": "code",
   "execution_count": 20,
   "metadata": {},
   "outputs": [],
   "source": [
    "from langchain_core.prompts import ChatPromptTemplate\n",
    "\n",
    "# Define a custom prompt to provide instructions and any additional context.\n",
    "# 1) You can add examples into the prompt template to improve extraction quality\n",
    "# 2) Introduce additional parameters to take context into account (e.g., include metadata\n",
    "#    about the document from which the text was extracted.)\n",
    "prompt = ChatPromptTemplate.from_messages(\n",
    "    [\n",
    "        (\n",
    "            \"system\",\n",
    "            \"You are an expert municipal climate action planner \"\n",
    "            \"\"\"Read the provided Climate Action Plan document and extract the following information described in the text:\n",
    "            1. Emissions reductions Goals;\n",
    "            2. Strategies to achieve the goals;\n",
    "            3. Action items related to the Strategies; \"\"\"\n",
    "            \"If the text does not describe a goal, strategy, or action, do not make up an answer.\"\n",
    "            \"Only extract relevant information from the text.\"\n",
    "            \"If the value of an attribute you are asked to extract is not present in the text, return null for the attribute's value.\"\n",
    "            \"The same text cannot be both a goal and a strategy.  Please distinguish them based on their definitions.\"\n",
    "        ),\n",
    "        # Please see the how-to about improving performance with\n",
    "        # reference examples.\n",
    "        # MessagesPlaceholder('examples'),\n",
    "        (\"human\", \"{text}\"),\n",
    "    ]\n",
    ")"
   ]
  },
  {
   "cell_type": "markdown",
   "metadata": {},
   "source": [
    "## First attempt with cheaper, smaller LLMs"
   ]
  },
  {
   "cell_type": "code",
   "execution_count": 15,
   "metadata": {},
   "outputs": [],
   "source": [
    "from langchain_openai import ChatOpenAI\n",
    "\n",
    "#llm = ChatMistralAI(model=\"mistral-large-latest\", temperature=0)\n",
    "llm = ChatOpenAI(model=\"gpt-3.5-turbo-0125\", temperature=0)\n",
    "\n",
    "runnable = prompt | llm.with_structured_output(schema=Results)"
   ]
  },
  {
   "cell_type": "code",
   "execution_count": 4,
   "metadata": {},
   "outputs": [],
   "source": [
    "text = \"\"\"OUR HOMES AND BUSINESSES\n",
    "Making our homes and buildings super-efficient and electrifying our\n",
    "space and water heating and cooking are core to Melrose’s Net\n",
    "Zero Action Plan. The City of Melrose commits to implementing\n",
    "actions that advance the following strategies:\n",
    "Strategy 1. Electrify fossil-fuel end uses.\n",
    "Strategy 2. Maximize uptake of residential energy efficiency\n",
    "and deep energy retrofits in existing buildings.\n",
    "Strategy 3. Target energy efficiency retrofits of large multi-\n",
    "family buildings.\n",
    "Strategy 4. Adopt policies to Incentivize energy efficiency and\n",
    "renewable energy in new construction and major\n",
    "renovations.\n",
    "Strategy 5. Lead by example with municipal buildings and\n",
    "advocate for net zero building policies.\n",
    "INFOGRAPHIC CREDIT: MASSACHUSETTS CLEAN ENERGY CENTER\n",
    "Melrose’s Net Zero Action Plan\n",
    "20\n",
    "In Melrose, 60 percent of building-related emissions result from the use of home\n",
    "heating fuels like natural gas and fuel oil. Businesses and industry in Melrose rely\n",
    "less heavily on fuel oil, but the use of natural gas and fuel oil still contribute\n",
    "another 14 percent of building-related emissions. Melrose’s older housing stock\n",
    "means the vast majority of homes were built before modern insulation and air\n",
    "sealing practices and can benefit from weatherization and energy retrofits.\n",
    "Burning oil and natural gas to heat our homes and cook our food creates 66,421\n",
    "metric tons of emissions every year in Melrose. It also creates pollution both inside\n",
    "and outdoors. In fact, recent studies have shown that methane leaks from gas-\n",
    "burning stoves is far worse than previously thought.\"\"\""
   ]
  },
  {
   "cell_type": "code",
   "execution_count": 16,
   "metadata": {},
   "outputs": [
    {
     "data": {
      "text/plain": [
       "Results(goals=[Goal(id='E1', emissions_category=<EmissionsCategory.Energy: 'E'>, year=None, description='Electrify fossil-fuel end uses'), Goal(id='E2', emissions_category=<EmissionsCategory.Energy: 'E'>, year=None, description='Maximize uptake of residential energy efficiency and deep energy retrofits in existing buildings'), Goal(id='E3', emissions_category=<EmissionsCategory.Energy: 'E'>, year=None, description='Target energy efficiency retrofits of large multi-family buildings'), Goal(id='E4', emissions_category=<EmissionsCategory.Energy: 'E'>, year=None, description='Adopt policies to incentivize energy efficiency and renewable energy in new construction and major renovations'), Goal(id='E5', emissions_category=<EmissionsCategory.Energy: 'E'>, year=None, description='Lead by example with municipal buildings and advocate for net zero building policies')], stragegies=[Strategy(id='E1', emissions_category=<EmissionsCategory.Energy: 'E'>, related_goals=['E1'], description='Electrify fossil-fuel end uses'), Strategy(id='E2', emissions_category=<EmissionsCategory.Energy: 'E'>, related_goals=['E2'], description='Maximize uptake of residential energy efficiency and deep energy retrofits in existing buildings'), Strategy(id='E3', emissions_category=<EmissionsCategory.Energy: 'E'>, related_goals=['E2'], description='Target energy efficiency retrofits of large multi-family buildings'), Strategy(id='E4', emissions_category=<EmissionsCategory.Energy: 'E'>, related_goals=['E4'], description='Adopt policies to incentivize energy efficiency and renewable energy in new construction and major renovations'), Strategy(id='E5', emissions_category=<EmissionsCategory.Energy: 'E'>, related_goals=['E5'], description='Lead by example with municipal buildings and advocate for net zero building policies')], actions=[Action(id='E1', emissions_category=<EmissionsCategory.Energy: 'E'>, owner=None, related_stragegies=['E1'], description='Implement actions to electrify fossil-fuel end uses'), Action(id='E2', emissions_category=<EmissionsCategory.Energy: 'E'>, owner=None, related_stragegies=['E2'], description='Implement actions to maximize uptake of residential energy efficiency and deep energy retrofits in existing buildings'), Action(id='E3', emissions_category=<EmissionsCategory.Energy: 'E'>, owner=None, related_stragegies=['E3'], description='Implement actions to target energy efficiency retrofits of large multi-family buildings'), Action(id='E4', emissions_category=<EmissionsCategory.Energy: 'E'>, owner=None, related_stragegies=['E4'], description='Implement actions to adopt policies to incentivize energy efficiency and renewable energy in new construction and major renovations'), Action(id='E5', emissions_category=<EmissionsCategory.Energy: 'E'>, owner=None, related_stragegies=['E5'], description='Implement actions to lead by example with municipal buildings and advocate for net zero building policies')])"
      ]
     },
     "execution_count": 16,
     "metadata": {},
     "output_type": "execute_result"
    }
   ],
   "source": [
    "runnable.invoke({\"text\": text})"
   ]
  },
  {
   "cell_type": "code",
   "execution_count": 17,
   "metadata": {},
   "outputs": [],
   "source": [
    "result = Out[16]"
   ]
  },
  {
   "cell_type": "code",
   "execution_count": 18,
   "metadata": {},
   "outputs": [
    {
     "data": {
      "text/plain": [
       "[Goal(id='E1', emissions_category=<EmissionsCategory.Energy: 'E'>, year=None, description='Electrify fossil-fuel end uses'),\n",
       " Goal(id='E2', emissions_category=<EmissionsCategory.Energy: 'E'>, year=None, description='Maximize uptake of residential energy efficiency and deep energy retrofits in existing buildings'),\n",
       " Goal(id='E3', emissions_category=<EmissionsCategory.Energy: 'E'>, year=None, description='Target energy efficiency retrofits of large multi-family buildings'),\n",
       " Goal(id='E4', emissions_category=<EmissionsCategory.Energy: 'E'>, year=None, description='Adopt policies to incentivize energy efficiency and renewable energy in new construction and major renovations'),\n",
       " Goal(id='E5', emissions_category=<EmissionsCategory.Energy: 'E'>, year=None, description='Lead by example with municipal buildings and advocate for net zero building policies')]"
      ]
     },
     "execution_count": 18,
     "metadata": {},
     "output_type": "execute_result"
    }
   ],
   "source": [
    "result.goals"
   ]
  },
  {
   "cell_type": "code",
   "execution_count": 19,
   "metadata": {},
   "outputs": [
    {
     "data": {
      "text/plain": [
       "[Action(id='E1', emissions_category=<EmissionsCategory.Energy: 'E'>, owner=None, related_stragegies=['E1'], description='Implement actions to electrify fossil-fuel end uses'),\n",
       " Action(id='E2', emissions_category=<EmissionsCategory.Energy: 'E'>, owner=None, related_stragegies=['E2'], description='Implement actions to maximize uptake of residential energy efficiency and deep energy retrofits in existing buildings'),\n",
       " Action(id='E3', emissions_category=<EmissionsCategory.Energy: 'E'>, owner=None, related_stragegies=['E3'], description='Implement actions to target energy efficiency retrofits of large multi-family buildings'),\n",
       " Action(id='E4', emissions_category=<EmissionsCategory.Energy: 'E'>, owner=None, related_stragegies=['E4'], description='Implement actions to adopt policies to incentivize energy efficiency and renewable energy in new construction and major renovations'),\n",
       " Action(id='E5', emissions_category=<EmissionsCategory.Energy: 'E'>, owner=None, related_stragegies=['E5'], description='Implement actions to lead by example with municipal buildings and advocate for net zero building policies')]"
      ]
     },
     "execution_count": 19,
     "metadata": {},
     "output_type": "execute_result"
    }
   ],
   "source": [
    "result.actions"
   ]
  },
  {
   "cell_type": "code",
   "execution_count": 22,
   "metadata": {},
   "outputs": [
    {
     "data": {
      "text/plain": [
       "[Strategy(id='E1', emissions_category=<EmissionsCategory.Energy: 'E'>, related_goals=['E1'], description='Electrify fossil-fuel end uses'),\n",
       " Strategy(id='E2', emissions_category=<EmissionsCategory.Energy: 'E'>, related_goals=['E2'], description='Maximize uptake of residential energy efficiency and deep energy retrofits in existing buildings'),\n",
       " Strategy(id='E3', emissions_category=<EmissionsCategory.Energy: 'E'>, related_goals=['E2'], description='Target energy efficiency retrofits of large multi-family buildings'),\n",
       " Strategy(id='E4', emissions_category=<EmissionsCategory.Energy: 'E'>, related_goals=['E4'], description='Adopt policies to incentivize energy efficiency and renewable energy in new construction and major renovations'),\n",
       " Strategy(id='E5', emissions_category=<EmissionsCategory.Energy: 'E'>, related_goals=['E5'], description='Lead by example with municipal buildings and advocate for net zero building policies')]"
      ]
     },
     "execution_count": 22,
     "metadata": {},
     "output_type": "execute_result"
    }
   ],
   "source": [
    "result.stragegies"
   ]
  },
  {
   "cell_type": "markdown",
   "metadata": {},
   "source": [
    "## Second attempt with premier LLM (gpt-4)"
   ]
  },
  {
   "cell_type": "code",
   "execution_count": 10,
   "metadata": {},
   "outputs": [],
   "source": [
    "from langchain_openai import ChatOpenAI\n",
    "\n",
    "llm2 = ChatOpenAI(model=\"gpt-4-turbo\", temperature=0)\n",
    "\n",
    "runnable2 = prompt | llm2.with_structured_output(schema=Results)"
   ]
  },
  {
   "cell_type": "code",
   "execution_count": 12,
   "metadata": {},
   "outputs": [],
   "source": [
    "result2 = runnable2.invoke({\"text\": text})"
   ]
  },
  {
   "cell_type": "code",
   "execution_count": 13,
   "metadata": {},
   "outputs": [
    {
     "data": {
      "text/plain": [
       "[Goal(id='B2030', emissions_category=<EmissionsCategory.Buildings: 'B'>, year=2030, description='Achieve net zero emissions from buildings by 2030.')]"
      ]
     },
     "execution_count": 13,
     "metadata": {},
     "output_type": "execute_result"
    }
   ],
   "source": [
    "result2.goals"
   ]
  },
  {
   "cell_type": "code",
   "execution_count": 15,
   "metadata": {},
   "outputs": [
    {
     "data": {
      "text/plain": [
       "[Strategy(id='B1', emissions_category=<EmissionsCategory.Buildings: 'B'>, related_goals=['B2030'], description='Electrify fossil-fuel end uses.'),\n",
       " Strategy(id='B2', emissions_category=<EmissionsCategory.Buildings: 'B'>, related_goals=['B2030'], description='Maximize uptake of residential energy efficiency and deep energy retrofits in existing buildings.'),\n",
       " Strategy(id='B3', emissions_category=<EmissionsCategory.Buildings: 'B'>, related_goals=['B2030'], description='Target energy efficiency retrofits of large multi-family buildings.'),\n",
       " Strategy(id='B4', emissions_category=<EmissionsCategory.Buildings: 'B'>, related_goals=['B2030'], description='Adopt policies to incentivize energy efficiency and renewable energy in new construction and major renovations.'),\n",
       " Strategy(id='B5', emissions_category=<EmissionsCategory.Buildings: 'B'>, related_goals=['B2030'], description='Lead by example with municipal buildings and advocate for net zero building policies.')]"
      ]
     },
     "execution_count": 15,
     "metadata": {},
     "output_type": "execute_result"
    }
   ],
   "source": [
    "result2.strategies"
   ]
  },
  {
   "cell_type": "code",
   "execution_count": 16,
   "metadata": {},
   "outputs": [
    {
     "data": {
      "text/plain": [
       "[]"
      ]
     },
     "execution_count": 16,
     "metadata": {},
     "output_type": "execute_result"
    }
   ],
   "source": [
    "result2.actions"
   ]
  },
  {
   "cell_type": "markdown",
   "metadata": {},
   "source": [
    "## Handling Documents\n",
    "\n",
    "The following is from LangChain tutorial: https://python.langchain.com/v0.1/docs/use_cases/extraction/how_to/handle_files/"
   ]
  },
  {
   "cell_type": "code",
   "execution_count": 29,
   "metadata": {},
   "outputs": [
    {
     "data": {
      "text/plain": [
       "b'%PDF-1.5\\r%\\xe2\\xe3\\xcf\\xd3\\r\\n106 '"
      ]
     },
     "execution_count": 29,
     "metadata": {},
     "output_type": "execute_result"
    }
   ],
   "source": [
    "import requests\n",
    "\n",
    "AMHERST_URL = \"https://secureservercdn.net/50.62.195.83/env.320.myftpupload.com/wp-content/uploads/2021/09/Amherst_7.a.-CAARP-Final_061721-2.pdf\"\n",
    "URL = \"https://www.wayland.ma.us/sites/g/files/vyhlif9231/f/uploads/wayland_climate_action_plan_june_2022_2.pdf\"\n",
    "\n",
    "response = requests.get(URL)\n",
    "data = response.content\n",
    "data[:20]"
   ]
  },
  {
   "cell_type": "code",
   "execution_count": 60,
   "metadata": {},
   "outputs": [],
   "source": [
    "from langchain_community.document_loaders import PyMuPDFLoader"
   ]
  },
  {
   "cell_type": "code",
   "execution_count": 49,
   "metadata": {},
   "outputs": [],
   "source": [
    "loader = PyMuPDFLoader(URL)"
   ]
  },
  {
   "cell_type": "code",
   "execution_count": 50,
   "metadata": {},
   "outputs": [],
   "source": [
    "data = loader.load_and_split()"
   ]
  },
  {
   "cell_type": "code",
   "execution_count": 51,
   "metadata": {},
   "outputs": [
    {
     "data": {
      "text/plain": [
       "13"
      ]
     },
     "execution_count": 51,
     "metadata": {},
     "output_type": "execute_result"
    }
   ],
   "source": [
    "len(data)"
   ]
  },
  {
   "cell_type": "code",
   "execution_count": 53,
   "metadata": {},
   "outputs": [],
   "source": [
    "from langchain_community.vectorstores import FAISS\n",
    "from langchain_openai import OpenAIEmbeddings\n",
    "\n",
    "faiss_index = FAISS.from_documents(data, OpenAIEmbeddings())"
   ]
  },
  {
   "cell_type": "code",
   "execution_count": 62,
   "metadata": {},
   "outputs": [
    {
     "name": "stdout",
     "output_type": "stream",
     "text": [
      "4: 4 | P a g e  \n",
      "system or vehicle, we envision a climate program that helps to reduce the time, effort, and uncertainty in \n",
      "finding electrically sourced heat pumps and EVs . We envision a plan to help people find vetted, quality \n",
      "energy efficiency services; to provide guidance to climate‐benefitting and healthy food choices or waste \n",
      "management  practices;  and  to  easily  access  incentives  offered  by  our  utilities,  state,  and  Federal \n",
      "government.  As an example, Wayland is moving forward with creating economic and green sources of \n",
      "electricity for all town residents (Wayland Community Choice Electricity), as voted in 2021 Town Meeting.   \n",
      "Supporting these goals, we include a role for local grassroots organizations like Energize Wayland, which \n",
      "support residents’ climate‐related decisions ‐ by providing coaching, vetting, and group‐buy arrangements \n",
      "‐  which  make  climate‐supportive  choices  less  risky,  less  expensive,  and  less  time  consuming.    As  an \n",
      "example, Energize Wayland worked with the Town to help lead two rounds of the Wayland Solarize \n",
      "program, which successfully helped over 250 households install solar energy systems. \n",
      "We need to make it fair and accessible to all.  \n",
      "We need an equitable strategy, recognizing that not all residents have the resources or ability to invest in \n",
      "their  homes,  acquire  new  vehicles,  or  change  their  food  purchases,  land,  and  waste  management \n",
      "practices. Identifying and fostering tailored support for low‐ and moderate‐income residents can help \n",
      "ensure that all residents have the opportunity to benefit from available incentives and services. \n",
      "We aspire to innovate.  \n",
      "Wayland residents and government include many expert and talented individuals that can help us not \n",
      "only apply what other towns have done but consider creative new ways to accomplish our climate goals \n",
      "for maximum benefit.  \n",
      "We aspire to lead.  \n",
      "What Wayland does, as an individual town, won’t change the atmosphere substantially by itself. We may \n",
      "be able to contribute much more if we Lead‐by‐Example, creating a strategy that other towns choose to \n",
      "emulate, and thereby achieve their own success. \n",
      "We need to speak out.  \n",
      "Our success requires utility, regional, state, and Federal policies to be well designed for what we need to \n",
      "accomplish. Strong climate actions only happen if voters, grassroots organizations, and town governments \n",
      "demand it. We all need to engage in political activity in support of rapid and sustained climate action. In \n",
      "Wayland, Town government will take an active role in advancing climate actions and will engage, inform, \n",
      "and welcome our residents' participation in all levels of policy discussions and decision making. \n",
      " \n",
      "Our Climate Plan: \n",
      "This  plan  proposes  six  categories  of  climate  actions.  In  each  we  highlight  actions  we  as  residents, \n",
      "businesses, and institutions need to take, and what we as a Town need to do in our municipal operations. \n",
      "The good news is that we in Wayland already are moving ahead with some of the recommended actions; \n",
      "these actions already underway are noted in the plan as (IN PROGRESS).  \n",
      "I. \n",
      "Decarbonize our Homes and Buildings \n",
      "II. \n",
      "Moving to Clean Energy Supply \n",
      "III. \n",
      "Transportation – Driving Clean and Driving Less \n",
      "IV. \n",
      "Adaptation and Resilience \n",
      "V. \n",
      "Nature‐Based Actions to Mitigate Carbon  \n",
      "VI. \n",
      "Food and Waste \n",
      "The final section VII reflects that engagement and equity must be a central tenet of Wayland’s approach. \n",
      "We offer our thoughts on how to start, knowing that the plan will evolve and must serve all residents.\n",
      "3: 3 | P a g e  \n",
      "world from getting much warmer to prevent warming greater than 1.5°C (equivalent to 2.7°F) above pre‐\n",
      "industrial world temperatures. We currently are at 1.1°C (2°F) above pre‐industrial world temperatures.   \n",
      "If we collectively act quickly and boldly to adapt and mitigate our emissions, we know we can make a \n",
      "difference. The question is whether we in Wayland will choose to act in time, do those things in the scale \n",
      "needed, and do our part to achieve by 2030 a 50% reduction below the 1990 baseline in the state’s carbon \n",
      "emissions as required under the Commonwealth's Clean Energy & Climate Plan. Even if we succeed in \n",
      "Wayland, a 1.5°C warmer world means we must prepare for a changing environment by increasing our \n",
      "resiliency to more frequent and more severe weather events. The unprecedented flooding of 2010, the \n",
      "record snowfall of 2015, and the record precipitation levels of 2021 all suggest climate change already is \n",
      "affecting Wayland.  \n",
      " \n",
      "Therefore, We Respond: \n",
      "We, as a town and as individuals, have the responsibility and the opportunity to act \n",
      "decisively on climate change in keeping with the character and ambition that our \n",
      "town is fortunate to have. \n",
      "Wayland’s proposed plan has three major tracks: \n",
      " \n",
      "a comprehensive approach for our Town‐managed facilities, vehicles, and operations;  \n",
      " \n",
      "a cohesive strategy to support our households, businesses, and institutions as we make decisions \n",
      "related to our homes, buildings, vehicles, food, and waste; and  \n",
      " \n",
      "a focus on our community’s resiliency and preparedness for extreme weather (flooding, heat, etc.). \n",
      "To achieve a 50% reduction target by 2030, Wayland needs to reduce its overall emissions by 33% from \n",
      "2022 levels. This is based on the state’s overall progress from 1990 to 2022.  This proposed plan addresses \n",
      "not just carbon emissions but also Wayland’s adaptation and resilience to climate change effects that can \n",
      "no longer be prevented. \n",
      " \n",
      "Principles to Guide our Response: \n",
      "We offer these perspectives on why what we do here in Wayland matters, to help guide how we will \n",
      "design and develop our activities: \n",
      "As a town and as individuals, we choose to act responsibly to be a part of a climate \n",
      "solution, and not part of the problem.  \n",
      "In 2010, Wayland became an official Massachusetts Green Community, enabling the Town to secure and \n",
      "deploy grant funds reducing our municipal energy use and emissions. Wayland’s emissions reduction to \n",
      "date is at least consistent with the state’s overall 25% reduction since 1990. To meet our minimum 2030 \n",
      "target, we need to continue our efforts to reduce our current Town‐wide emissions by an additional 33%. \n",
      "As a town and individuals, we understand that climate solutions are opportunities. \n",
      "Our climate choices can benefit us financially along with other benefits such as comfort, performance, \n",
      "health, and sustainability. This strategy asks Wayland and its people to do those things that benefit our \n",
      "climate, that make financial sense, are easily accessible, and achievable. As an example, the solar canopies \n",
      "and roof systems installed on four Wayland buildings, as well as municipal building energy efficiency \n",
      "upgrades and LED street lighting, have created financial benefits as well as greater climate resiliency for \n",
      "the Town. We intend our Town’s climate initiative to improve our quality of life and help to create the \n",
      "Wayland we want for our collective future. We therefore focus on Engagement, to build awareness, \n",
      "participation, support, and hopefully some fun; and expect to celebrate each milestone together as we \n",
      "achieve them.  \n",
      "We can make it easy to make climate-smart decisions. \n",
      "To achieve the scale we need, our strategy is to help all residents and businesses to feel empowered and \n",
      "comfortable moving forward with high quality, sensible green choices. When residents buy a new heating\n",
      "5: funding  to  support  municipalities  and  residents  in  taking  decarbonization  efforts  and  achieve \n",
      "environmental justice goals.\n",
      "10: 10 | P a g e  \n",
      "VI. Food and Waste \n",
      "Our eating habits (agriculture) are a major contributor to carbon emissions. Reducing \n",
      "our “food print” is an easy and impactful way to take climate action, with many \n",
      "added benefits to human and ecosystem health, stronger local economies, and \n",
      "community. Reducing, reusing, repurposing, and recycling no longer needed items \n",
      "reduces the carbon emissions of producing and transporting replacements. \n",
      "We Encourage Residents, Businesses, and Organizations to:  \n",
      " \n",
      "Switch to a more plant‐based diet. Meat and dairy (livestock) produce about 14.5 % of the world's \n",
      "greenhouse gasses. Changing diets can be done at our own pace and with little financial investment, \n",
      "but it is a deep lifestyle change that needs to be supported by educational campaigns, peer support, \n",
      "and celebration (cooking and eating together).   \n",
      " \n",
      "Buy more locally produced food, which has fewer \"food miles\" (conventional food travels an average \n",
      "1,500 miles from farm to tables). Local farms are small farms that can more readily adopt climate‐\n",
      "friendly and regenerative practices, use fewer pesticides, rebuild crop and insect diversity, enrich the \n",
      "soil,  and  produce  tastier  and  more  nutritious  food.  Local,  decentralized  production  reduces  food \n",
      "safety risks and strengthens the local economy.  \n",
      " \n",
      "Grow our own food to get us outside in nature, relieve stress, keep us moving and produce tasty, \n",
      "healthy food with zero food miles on it. Local groups can organize permaculture and regenerative \n",
      "agriculture workshops and gardening support groups.  \n",
      " \n",
      "Compost organics. We encourage everyone to compost their food waste. Food waste can now be \n",
      "brought to the Town’s Transfer Station for composting.  Local groups can foster group purchases of \n",
      "composters and arrange workshops and support. (IN PROGRESS) \n",
      " \n",
      "Buy less new stuff. Local groups can run “Buy Nothing” campaigns to encourage reuse and foster \n",
      "Repair Cafes, Maker Spaces, local repair businesses, and tool pools.   \n",
      "Town Actions: \n",
      " \n",
      "Support community gardens and our farmers market, local farmstands like Lee’s Farmstand, our local \n",
      "farmers, and rent out conservation land and fields to young, land‐poor farmers. Our schools and \n",
      "community gardens can be centers of education, community, and crop sharing. (IN PROGRESS) \n",
      " \n",
      "Aim for zero organic waste. Over 51% of our trash is organic & compostable. This wastes food and \n",
      "organic fertilizer, contributes to methane in landfills, and increases the number of trucks on our roads. \n",
      "The  Town  can  explore  encouraging  single  hauler  curb‐side  collections  to  collect  organic  waste, \n",
      "recycling, and trash ‐ making it cheaper, less polluting, more efficient, and more accountable.   \n",
      " \n",
      "Encourage local composting. To supplement on‐site composting, the Town can foster town‐wide \n",
      "composting services and explore using the compost on Town landscaping with any excess distributed \n",
      "or sold locally. (IN PROGRESS)  The Town can consider regulating institutional organic waste from \n",
      "schools, restaurants, and assisted living facilities via a local Commercial Food Material Disposal Ban to \n",
      "add to current state regulation. \n",
      " \n",
      "Reduce package and single use waste. The Town can strenuously enforce existing polystyrene and \n",
      "plastic bag bans and consider further local regulation to discourage single use plastic bottles. \n",
      " \n",
      "Promote reuse. The Town and local groups can foster the Transfer Station’s Give and Take services, \n",
      "support Freecycle and the Town Library’s “Library of Things,”, encourage diverting reusable clothing, \n",
      "furniture, building materials, etc. into reuse or resale markets, and organize campaigns to motivate \n",
      "residents, businesses, and organizations to reestablish Wayland as a state leader in recycling.\n"
     ]
    }
   ],
   "source": [
    "docs = faiss_index.similarity_search(\"Goals\")\n",
    "for doc in docs:\n",
    "    print(str(doc.metadata[\"page\"]) + \":\", doc.page_content)"
   ]
  },
  {
   "cell_type": "code",
   "execution_count": 58,
   "metadata": {},
   "outputs": [
    {
     "data": {
      "text/plain": [
       "4"
      ]
     },
     "execution_count": 58,
     "metadata": {},
     "output_type": "execute_result"
    }
   ],
   "source": [
    "len(docs)"
   ]
  },
  {
   "cell_type": "markdown",
   "metadata": {},
   "source": [
    "## Goal, Strategy, and Action Extraction from a PDF"
   ]
  },
  {
   "cell_type": "code",
   "execution_count": 13,
   "metadata": {},
   "outputs": [],
   "source": [
    "from langchain_community.document_loaders import PyMuPDFLoader\n",
    "URL = \"https://www.wayland.ma.us/sites/g/files/vyhlif9231/f/uploads/wayland_climate_action_plan_june_2022_2.pdf\"\n",
    "\n",
    "loader = PyMuPDFLoader(URL)"
   ]
  },
  {
   "cell_type": "code",
   "execution_count": 14,
   "metadata": {},
   "outputs": [],
   "source": [
    "pages = loader.load()"
   ]
  },
  {
   "cell_type": "code",
   "execution_count": 15,
   "metadata": {},
   "outputs": [
    {
     "data": {
      "text/plain": [
       "Document(page_content='\\xa0\\n\\xa0\\nTOWN OF WAYLAND \\n41 COCHITUATE ROAD \\nWAYLAND, MASSACHUSETTS 01778 \\n\\xa0\\n \\n \\nWayland Climate Action Mobilization Plan \\nJune 2022 \\n\\xa0\\n\\xa0\\n\\xa0\\n\\xa0\\nPreamble \\n2 \\nI. \\nDecarbonize our Homes and Buildings \\n5 \\nII. \\nMoving to Clean Energy Supply \\n6 \\nIII. \\nTransportation - Driving Clean and Driving Less \\n7 \\nIV. Adaptation and Resilience \\n8 \\nV. \\nNature-Based Actions to Mitigate Carbon \\n9 \\nVI. Food and Waste \\n10 \\nVII. Resident Engagement \\n11 \\n\\xa0\\n', metadata={'source': 'https://www.wayland.ma.us/sites/g/files/vyhlif9231/f/uploads/wayland_climate_action_plan_june_2022_2.pdf', 'file_path': 'https://www.wayland.ma.us/sites/g/files/vyhlif9231/f/uploads/wayland_climate_action_plan_june_2022_2.pdf', 'page': 1, 'total_pages': 12, 'format': 'PDF 1.5', 'title': 'Microsoft Word - Wayland climate action plan June 2022 for release v2.docx', 'author': 'jharp', 'subject': '', 'keywords': '', 'creator': 'PScript5.dll Version 5.2.2', 'producer': 'Acrobat Distiller 10.1.16 (Windows)', 'creationDate': \"D:20220630202538-04'00'\", 'modDate': \"D:20220630202538-04'00'\", 'trapped': ''})"
      ]
     },
     "execution_count": 15,
     "metadata": {},
     "output_type": "execute_result"
    }
   ],
   "source": [
    "pages[1]"
   ]
  },
  {
   "cell_type": "code",
   "execution_count": 21,
   "metadata": {},
   "outputs": [],
   "source": [
    "from langchain_openai import ChatOpenAI\n",
    "\n",
    "llm = ChatOpenAI(model=\"gpt-4-turbo\", temperature=0)\n",
    "\n",
    "runnable = prompt | llm.with_structured_output(schema=Results)"
   ]
  },
  {
   "cell_type": "markdown",
   "metadata": {},
   "source": [
    "The first page is just a table of contents.  If the model is not hallucinating it should return nothing."
   ]
  },
  {
   "cell_type": "code",
   "execution_count": 23,
   "metadata": {},
   "outputs": [],
   "source": [
    "result = runnable.invoke({\"text\": pages[1].page_content})"
   ]
  },
  {
   "cell_type": "code",
   "execution_count": 24,
   "metadata": {},
   "outputs": [
    {
     "data": {
      "text/plain": [
       "[]"
      ]
     },
     "execution_count": 24,
     "metadata": {},
     "output_type": "execute_result"
    }
   ],
   "source": [
    "result.goals"
   ]
  },
  {
   "cell_type": "code",
   "execution_count": 25,
   "metadata": {},
   "outputs": [
    {
     "data": {
      "text/plain": [
       "[]"
      ]
     },
     "execution_count": 25,
     "metadata": {},
     "output_type": "execute_result"
    }
   ],
   "source": [
    "result.strategies"
   ]
  },
  {
   "cell_type": "code",
   "execution_count": 27,
   "metadata": {},
   "outputs": [
    {
     "data": {
      "text/plain": [
       "[]"
      ]
     },
     "execution_count": 27,
     "metadata": {},
     "output_type": "execute_result"
    }
   ],
   "source": [
    "result.actions"
   ]
  },
  {
   "cell_type": "code",
   "execution_count": 26,
   "metadata": {},
   "outputs": [
    {
     "name": "stdout",
     "output_type": "stream",
     "text": [
      " \n",
      " \n",
      "TOWN OF WAYLAND \n",
      "41 COCHITUATE ROAD \n",
      "WAYLAND, MASSACHUSETTS 01778 \n",
      " \n",
      " \n",
      " \n",
      "Wayland Climate Action Mobilization Plan \n",
      "June 2022 \n",
      " \n",
      " \n",
      " \n",
      " \n",
      "Preamble \n",
      "2 \n",
      "I. \n",
      "Decarbonize our Homes and Buildings \n",
      "5 \n",
      "II. \n",
      "Moving to Clean Energy Supply \n",
      "6 \n",
      "III. \n",
      "Transportation - Driving Clean and Driving Less \n",
      "7 \n",
      "IV. Adaptation and Resilience \n",
      "8 \n",
      "V. \n",
      "Nature-Based Actions to Mitigate Carbon \n",
      "9 \n",
      "VI. Food and Waste \n",
      "10 \n",
      "VII. Resident Engagement \n",
      "11 \n",
      " \n",
      "\n"
     ]
    }
   ],
   "source": [
    "print(pages[1].page_content)"
   ]
  },
  {
   "cell_type": "markdown",
   "metadata": {},
   "source": [
    "Page 5 includes multiple goals.  Let's see what happens with it."
   ]
  },
  {
   "cell_type": "code",
   "execution_count": 28,
   "metadata": {},
   "outputs": [],
   "source": [
    "results5 = runnable.invoke({\"text\": pages[5].page_content})"
   ]
  },
  {
   "cell_type": "code",
   "execution_count": 29,
   "metadata": {},
   "outputs": [
    {
     "data": {
      "text/plain": [
       "[Goal(id='B2030', emissions_category=<EmissionsCategory.Buildings: 'B'>, year=2030, description='By 2030, 50% of homes and commercial buildings to complete energy audits and thermal upgrades.'),\n",
       " Goal(id='B2050', emissions_category=<EmissionsCategory.Buildings: 'B'>, year=2050, description='By 2050, 100% of non-municipal buildings to have thermal upgrades.'),\n",
       " Goal(id='B2030-2', emissions_category=<EmissionsCategory.Buildings: 'B'>, year=2030, description='By 2030, 25% of non-municipal buildings use heat pumps to achieve at least 75% of their heating needs and all air conditioning needs.'),\n",
       " Goal(id='B2050-2', emissions_category=<EmissionsCategory.Buildings: 'B'>, year=2050, description='By 2050, 100% of non-municipal buildings have thermal upgrades and use heat pumps for heating and cooling.'),\n",
       " Goal(id='B2030-3', emissions_category=<EmissionsCategory.Buildings: 'B'>, year=2030, description='By 2030, 25% of municipal buildings to have implemented decarbonization strategies.'),\n",
       " Goal(id='B2050-3', emissions_category=<EmissionsCategory.Buildings: 'B'>, year=2050, description='By 2050, 100% of municipal buildings be decarbonized and no longer use onsite fossil fuel.')]"
      ]
     },
     "execution_count": 29,
     "metadata": {},
     "output_type": "execute_result"
    }
   ],
   "source": [
    "results5.goals"
   ]
  },
  {
   "cell_type": "code",
   "execution_count": 30,
   "metadata": {},
   "outputs": [
    {
     "data": {
      "text/plain": [
       "[Strategy(id='B1', emissions_category=<EmissionsCategory.Buildings: 'B'>, related_goals=['B2030', 'B2050', 'B2030-2', 'B2050-2', 'B2030-3', 'B2050-3'], description='Encourage residents and property owners to make green choices and lead by example by continuing to decarbonize our municipal buildings.'),\n",
       " Strategy(id='B2', emissions_category=<EmissionsCategory.Buildings: 'B'>, related_goals=['B2030', 'B2050', 'B2030-2', 'B2050-2', 'B2030-3', 'B2050-3'], description='Support coaching and outreach efforts, identify qualified vendors, and ensure residents understand their choices making full use of state and utility rebates.'),\n",
       " Strategy(id='B3', emissions_category=<EmissionsCategory.Buildings: 'B'>, related_goals=['B2030', 'B2050', 'B2030-2', 'B2050-2', 'B2030-3', 'B2050-3'], description='Pursue town regulations to limit or prevent new gas hook ups in new construction, as allowed by state law.')]"
      ]
     },
     "execution_count": 30,
     "metadata": {},
     "output_type": "execute_result"
    }
   ],
   "source": [
    "results5.strategies"
   ]
  },
  {
   "cell_type": "code",
   "execution_count": 31,
   "metadata": {},
   "outputs": [
    {
     "data": {
      "text/plain": [
       "[Action(id='B1', emissions_category=<EmissionsCategory.Buildings: 'B'>, owner='Wayland', related_stragegies=['B1'], description='Transition municipal buildings to be carbon neutral (use no on-site fossil fuel and, where feasible, generate solar power on-site).'),\n",
       " Action(id='B2', emissions_category=<EmissionsCategory.Buildings: 'B'>, owner='Wayland', related_stragegies=['B1'], description='Reduce energy use in new construction and rehab. Ensure by 2023 that all new municipal buildings and substantial rehabilitations of existing municipal buildings meet high performing building standards to reduce energy use, decarbonize to use no on-site fossil fuels unless unique circumstance require such fuels, and incorporate climate sensitive design.'),\n",
       " Action(id='B3', emissions_category=<EmissionsCategory.Buildings: 'B'>, owner='Wayland', related_stragegies=['B1'], description='Implement decarbonization strategies for all existing municipal buildings taking advantage of heating/cooling system replacements and other opportunities.'),\n",
       " Action(id='B4', emissions_category=<EmissionsCategory.Buildings: 'B'>, owner='Wayland', related_stragegies=['B3'], description='Advocate for effective state policies at the state level for significant renewable energy, decarbonization, and building energy efficiency standards and funding to support municipalities and residents in taking decarbonization efforts and achieve environmental justice goals.')]"
      ]
     },
     "execution_count": 31,
     "metadata": {},
     "output_type": "execute_result"
    }
   ],
   "source": [
    "results5.actions"
   ]
  },
  {
   "cell_type": "code",
   "execution_count": 32,
   "metadata": {},
   "outputs": [
    {
     "data": {
      "text/plain": [
       "{'source': 'https://www.wayland.ma.us/sites/g/files/vyhlif9231/f/uploads/wayland_climate_action_plan_june_2022_2.pdf',\n",
       " 'file_path': 'https://www.wayland.ma.us/sites/g/files/vyhlif9231/f/uploads/wayland_climate_action_plan_june_2022_2.pdf',\n",
       " 'page': 5,\n",
       " 'total_pages': 12,\n",
       " 'format': 'PDF 1.5',\n",
       " 'title': 'Microsoft Word - Wayland climate action plan June 2022 for release v2.docx',\n",
       " 'author': 'jharp',\n",
       " 'subject': '',\n",
       " 'keywords': '',\n",
       " 'creator': 'PScript5.dll Version 5.2.2',\n",
       " 'producer': 'Acrobat Distiller 10.1.16 (Windows)',\n",
       " 'creationDate': \"D:20220630202538-04'00'\",\n",
       " 'modDate': \"D:20220630202538-04'00'\",\n",
       " 'trapped': ''}"
      ]
     },
     "execution_count": 32,
     "metadata": {},
     "output_type": "execute_result"
    }
   ],
   "source": [
    "pages[5].metadata"
   ]
  },
  {
   "cell_type": "code",
   "execution_count": 44,
   "metadata": {},
   "outputs": [],
   "source": [
    "import pandas as pd\n",
    "\n",
    "def results_to_goals_table(results, page, municipality):\n",
    "    records = [\n",
    "        {**g.dict(), \"document_url\": page.metadata[\"source\"], \"page\": page.metadata[\"page\"], \"municipality\": municipality}\n",
    "        for g in results.goals\n",
    "    ]\n",
    "    return pd.DataFrame(records)\n",
    "\n",
    "def results_to_strategies_table(results, page, municipality):\n",
    "    records = [\n",
    "        {**s.dict(), \"document_url\": page.metadata[\"source\"], \"page\": page.metadata[\"page\"], \"municipality\": municipality}\n",
    "        for s in results.strategies\n",
    "    ]\n",
    "    return pd.DataFrame(records)\n",
    "\n",
    "def results_to_actions_table(results, page, municipality):\n",
    "    records = [\n",
    "        {**a.dict(), \"document_url\": page.metadata[\"source\"], \"page\": page.metadata[\"page\"], \"municipality\": municipality}\n",
    "        for a in results.actions\n",
    "    ]\n",
    "    return pd.DataFrame(records)"
   ]
  },
  {
   "cell_type": "code",
   "execution_count": 42,
   "metadata": {},
   "outputs": [],
   "source": [
    "pd.set_option('display.max_colwidth', None)"
   ]
  },
  {
   "cell_type": "code",
   "execution_count": 39,
   "metadata": {},
   "outputs": [
    {
     "data": {
      "text/html": [
       "<div>\n",
       "<style scoped>\n",
       "    .dataframe tbody tr th:only-of-type {\n",
       "        vertical-align: middle;\n",
       "    }\n",
       "\n",
       "    .dataframe tbody tr th {\n",
       "        vertical-align: top;\n",
       "    }\n",
       "\n",
       "    .dataframe thead th {\n",
       "        text-align: right;\n",
       "    }\n",
       "</style>\n",
       "<table border=\"1\" class=\"dataframe\">\n",
       "  <thead>\n",
       "    <tr style=\"text-align: right;\">\n",
       "      <th></th>\n",
       "      <th>id</th>\n",
       "      <th>emissions_category</th>\n",
       "      <th>year</th>\n",
       "      <th>description</th>\n",
       "      <th>document_url</th>\n",
       "      <th>page</th>\n",
       "      <th>municipality</th>\n",
       "    </tr>\n",
       "  </thead>\n",
       "  <tbody>\n",
       "    <tr>\n",
       "      <th>0</th>\n",
       "      <td>B2030</td>\n",
       "      <td>EmissionsCategory.Buildings</td>\n",
       "      <td>2030</td>\n",
       "      <td>By 2030, 50% of homes and commercial buildings...</td>\n",
       "      <td>https://www.wayland.ma.us/sites/g/files/vyhlif...</td>\n",
       "      <td>5</td>\n",
       "      <td>Wayland</td>\n",
       "    </tr>\n",
       "    <tr>\n",
       "      <th>1</th>\n",
       "      <td>B2050</td>\n",
       "      <td>EmissionsCategory.Buildings</td>\n",
       "      <td>2050</td>\n",
       "      <td>By 2050, 100% of non-municipal buildings to ha...</td>\n",
       "      <td>https://www.wayland.ma.us/sites/g/files/vyhlif...</td>\n",
       "      <td>5</td>\n",
       "      <td>Wayland</td>\n",
       "    </tr>\n",
       "    <tr>\n",
       "      <th>2</th>\n",
       "      <td>B2030-2</td>\n",
       "      <td>EmissionsCategory.Buildings</td>\n",
       "      <td>2030</td>\n",
       "      <td>By 2030, 25% of non-municipal buildings use he...</td>\n",
       "      <td>https://www.wayland.ma.us/sites/g/files/vyhlif...</td>\n",
       "      <td>5</td>\n",
       "      <td>Wayland</td>\n",
       "    </tr>\n",
       "    <tr>\n",
       "      <th>3</th>\n",
       "      <td>B2050-2</td>\n",
       "      <td>EmissionsCategory.Buildings</td>\n",
       "      <td>2050</td>\n",
       "      <td>By 2050, 100% of non-municipal buildings have ...</td>\n",
       "      <td>https://www.wayland.ma.us/sites/g/files/vyhlif...</td>\n",
       "      <td>5</td>\n",
       "      <td>Wayland</td>\n",
       "    </tr>\n",
       "    <tr>\n",
       "      <th>4</th>\n",
       "      <td>B2030-3</td>\n",
       "      <td>EmissionsCategory.Buildings</td>\n",
       "      <td>2030</td>\n",
       "      <td>By 2030, 25% of municipal buildings to have im...</td>\n",
       "      <td>https://www.wayland.ma.us/sites/g/files/vyhlif...</td>\n",
       "      <td>5</td>\n",
       "      <td>Wayland</td>\n",
       "    </tr>\n",
       "    <tr>\n",
       "      <th>5</th>\n",
       "      <td>B2050-3</td>\n",
       "      <td>EmissionsCategory.Buildings</td>\n",
       "      <td>2050</td>\n",
       "      <td>By 2050, 100% of municipal buildings be decarb...</td>\n",
       "      <td>https://www.wayland.ma.us/sites/g/files/vyhlif...</td>\n",
       "      <td>5</td>\n",
       "      <td>Wayland</td>\n",
       "    </tr>\n",
       "  </tbody>\n",
       "</table>\n",
       "</div>"
      ],
      "text/plain": [
       "        id           emissions_category  year  \\\n",
       "0    B2030  EmissionsCategory.Buildings  2030   \n",
       "1    B2050  EmissionsCategory.Buildings  2050   \n",
       "2  B2030-2  EmissionsCategory.Buildings  2030   \n",
       "3  B2050-2  EmissionsCategory.Buildings  2050   \n",
       "4  B2030-3  EmissionsCategory.Buildings  2030   \n",
       "5  B2050-3  EmissionsCategory.Buildings  2050   \n",
       "\n",
       "                                         description  \\\n",
       "0  By 2030, 50% of homes and commercial buildings...   \n",
       "1  By 2050, 100% of non-municipal buildings to ha...   \n",
       "2  By 2030, 25% of non-municipal buildings use he...   \n",
       "3  By 2050, 100% of non-municipal buildings have ...   \n",
       "4  By 2030, 25% of municipal buildings to have im...   \n",
       "5  By 2050, 100% of municipal buildings be decarb...   \n",
       "\n",
       "                                        document_url  page municipality  \n",
       "0  https://www.wayland.ma.us/sites/g/files/vyhlif...     5      Wayland  \n",
       "1  https://www.wayland.ma.us/sites/g/files/vyhlif...     5      Wayland  \n",
       "2  https://www.wayland.ma.us/sites/g/files/vyhlif...     5      Wayland  \n",
       "3  https://www.wayland.ma.us/sites/g/files/vyhlif...     5      Wayland  \n",
       "4  https://www.wayland.ma.us/sites/g/files/vyhlif...     5      Wayland  \n",
       "5  https://www.wayland.ma.us/sites/g/files/vyhlif...     5      Wayland  "
      ]
     },
     "execution_count": 39,
     "metadata": {},
     "output_type": "execute_result"
    }
   ],
   "source": [
    "results_to_goals_table(results5, pages[5], \"Wayland\")"
   ]
  },
  {
   "cell_type": "code",
   "execution_count": 43,
   "metadata": {},
   "outputs": [
    {
     "data": {
      "text/html": [
       "<div>\n",
       "<style scoped>\n",
       "    .dataframe tbody tr th:only-of-type {\n",
       "        vertical-align: middle;\n",
       "    }\n",
       "\n",
       "    .dataframe tbody tr th {\n",
       "        vertical-align: top;\n",
       "    }\n",
       "\n",
       "    .dataframe thead th {\n",
       "        text-align: right;\n",
       "    }\n",
       "</style>\n",
       "<table border=\"1\" class=\"dataframe\">\n",
       "  <thead>\n",
       "    <tr style=\"text-align: right;\">\n",
       "      <th></th>\n",
       "      <th>id</th>\n",
       "      <th>emissions_category</th>\n",
       "      <th>related_goals</th>\n",
       "      <th>description</th>\n",
       "      <th>document_url</th>\n",
       "      <th>page</th>\n",
       "      <th>municipality</th>\n",
       "    </tr>\n",
       "  </thead>\n",
       "  <tbody>\n",
       "    <tr>\n",
       "      <th>0</th>\n",
       "      <td>B1</td>\n",
       "      <td>EmissionsCategory.Buildings</td>\n",
       "      <td>[B2030, B2050, B2030-2, B2050-2, B2030-3, B2050-3]</td>\n",
       "      <td>Encourage residents and property owners to make green choices and lead by example by continuing to decarbonize our municipal buildings.</td>\n",
       "      <td>https://www.wayland.ma.us/sites/g/files/vyhlif9231/f/uploads/wayland_climate_action_plan_june_2022_2.pdf</td>\n",
       "      <td>5</td>\n",
       "      <td>Wayland</td>\n",
       "    </tr>\n",
       "    <tr>\n",
       "      <th>1</th>\n",
       "      <td>B2</td>\n",
       "      <td>EmissionsCategory.Buildings</td>\n",
       "      <td>[B2030, B2050, B2030-2, B2050-2, B2030-3, B2050-3]</td>\n",
       "      <td>Support coaching and outreach efforts, identify qualified vendors, and ensure residents understand their choices making full use of state and utility rebates.</td>\n",
       "      <td>https://www.wayland.ma.us/sites/g/files/vyhlif9231/f/uploads/wayland_climate_action_plan_june_2022_2.pdf</td>\n",
       "      <td>5</td>\n",
       "      <td>Wayland</td>\n",
       "    </tr>\n",
       "    <tr>\n",
       "      <th>2</th>\n",
       "      <td>B3</td>\n",
       "      <td>EmissionsCategory.Buildings</td>\n",
       "      <td>[B2030, B2050, B2030-2, B2050-2, B2030-3, B2050-3]</td>\n",
       "      <td>Pursue town regulations to limit or prevent new gas hook ups in new construction, as allowed by state law.</td>\n",
       "      <td>https://www.wayland.ma.us/sites/g/files/vyhlif9231/f/uploads/wayland_climate_action_plan_june_2022_2.pdf</td>\n",
       "      <td>5</td>\n",
       "      <td>Wayland</td>\n",
       "    </tr>\n",
       "  </tbody>\n",
       "</table>\n",
       "</div>"
      ],
      "text/plain": [
       "   id           emissions_category  \\\n",
       "0  B1  EmissionsCategory.Buildings   \n",
       "1  B2  EmissionsCategory.Buildings   \n",
       "2  B3  EmissionsCategory.Buildings   \n",
       "\n",
       "                                        related_goals  \\\n",
       "0  [B2030, B2050, B2030-2, B2050-2, B2030-3, B2050-3]   \n",
       "1  [B2030, B2050, B2030-2, B2050-2, B2030-3, B2050-3]   \n",
       "2  [B2030, B2050, B2030-2, B2050-2, B2030-3, B2050-3]   \n",
       "\n",
       "                                                                                                                                                      description  \\\n",
       "0                         Encourage residents and property owners to make green choices and lead by example by continuing to decarbonize our municipal buildings.   \n",
       "1  Support coaching and outreach efforts, identify qualified vendors, and ensure residents understand their choices making full use of state and utility rebates.   \n",
       "2                                                      Pursue town regulations to limit or prevent new gas hook ups in new construction, as allowed by state law.   \n",
       "\n",
       "                                                                                               document_url  \\\n",
       "0  https://www.wayland.ma.us/sites/g/files/vyhlif9231/f/uploads/wayland_climate_action_plan_june_2022_2.pdf   \n",
       "1  https://www.wayland.ma.us/sites/g/files/vyhlif9231/f/uploads/wayland_climate_action_plan_june_2022_2.pdf   \n",
       "2  https://www.wayland.ma.us/sites/g/files/vyhlif9231/f/uploads/wayland_climate_action_plan_june_2022_2.pdf   \n",
       "\n",
       "   page municipality  \n",
       "0     5      Wayland  \n",
       "1     5      Wayland  \n",
       "2     5      Wayland  "
      ]
     },
     "execution_count": 43,
     "metadata": {},
     "output_type": "execute_result"
    }
   ],
   "source": [
    "results_to_strategies_table(results5, pages[5], \"Wayland\")"
   ]
  },
  {
   "cell_type": "code",
   "execution_count": 45,
   "metadata": {},
   "outputs": [
    {
     "data": {
      "text/html": [
       "<div>\n",
       "<style scoped>\n",
       "    .dataframe tbody tr th:only-of-type {\n",
       "        vertical-align: middle;\n",
       "    }\n",
       "\n",
       "    .dataframe tbody tr th {\n",
       "        vertical-align: top;\n",
       "    }\n",
       "\n",
       "    .dataframe thead th {\n",
       "        text-align: right;\n",
       "    }\n",
       "</style>\n",
       "<table border=\"1\" class=\"dataframe\">\n",
       "  <thead>\n",
       "    <tr style=\"text-align: right;\">\n",
       "      <th></th>\n",
       "      <th>id</th>\n",
       "      <th>emissions_category</th>\n",
       "      <th>owner</th>\n",
       "      <th>related_stragegies</th>\n",
       "      <th>description</th>\n",
       "      <th>document_url</th>\n",
       "      <th>page</th>\n",
       "      <th>municipality</th>\n",
       "    </tr>\n",
       "  </thead>\n",
       "  <tbody>\n",
       "    <tr>\n",
       "      <th>0</th>\n",
       "      <td>B1</td>\n",
       "      <td>EmissionsCategory.Buildings</td>\n",
       "      <td>Wayland</td>\n",
       "      <td>[B1]</td>\n",
       "      <td>Transition municipal buildings to be carbon neutral (use no on-site fossil fuel and, where feasible, generate solar power on-site).</td>\n",
       "      <td>https://www.wayland.ma.us/sites/g/files/vyhlif9231/f/uploads/wayland_climate_action_plan_june_2022_2.pdf</td>\n",
       "      <td>5</td>\n",
       "      <td>Wayland</td>\n",
       "    </tr>\n",
       "    <tr>\n",
       "      <th>1</th>\n",
       "      <td>B2</td>\n",
       "      <td>EmissionsCategory.Buildings</td>\n",
       "      <td>Wayland</td>\n",
       "      <td>[B1]</td>\n",
       "      <td>Reduce energy use in new construction and rehab. Ensure by 2023 that all new municipal buildings and substantial rehabilitations of existing municipal buildings meet high performing building standards to reduce energy use, decarbonize to use no on-site fossil fuels unless unique circumstance require such fuels, and incorporate climate sensitive design.</td>\n",
       "      <td>https://www.wayland.ma.us/sites/g/files/vyhlif9231/f/uploads/wayland_climate_action_plan_june_2022_2.pdf</td>\n",
       "      <td>5</td>\n",
       "      <td>Wayland</td>\n",
       "    </tr>\n",
       "    <tr>\n",
       "      <th>2</th>\n",
       "      <td>B3</td>\n",
       "      <td>EmissionsCategory.Buildings</td>\n",
       "      <td>Wayland</td>\n",
       "      <td>[B1]</td>\n",
       "      <td>Implement decarbonization strategies for all existing municipal buildings taking advantage of heating/cooling system replacements and other opportunities.</td>\n",
       "      <td>https://www.wayland.ma.us/sites/g/files/vyhlif9231/f/uploads/wayland_climate_action_plan_june_2022_2.pdf</td>\n",
       "      <td>5</td>\n",
       "      <td>Wayland</td>\n",
       "    </tr>\n",
       "    <tr>\n",
       "      <th>3</th>\n",
       "      <td>B4</td>\n",
       "      <td>EmissionsCategory.Buildings</td>\n",
       "      <td>Wayland</td>\n",
       "      <td>[B3]</td>\n",
       "      <td>Advocate for effective state policies at the state level for significant renewable energy, decarbonization, and building energy efficiency standards and funding to support municipalities and residents in taking decarbonization efforts and achieve environmental justice goals.</td>\n",
       "      <td>https://www.wayland.ma.us/sites/g/files/vyhlif9231/f/uploads/wayland_climate_action_plan_june_2022_2.pdf</td>\n",
       "      <td>5</td>\n",
       "      <td>Wayland</td>\n",
       "    </tr>\n",
       "  </tbody>\n",
       "</table>\n",
       "</div>"
      ],
      "text/plain": [
       "   id           emissions_category    owner related_stragegies  \\\n",
       "0  B1  EmissionsCategory.Buildings  Wayland               [B1]   \n",
       "1  B2  EmissionsCategory.Buildings  Wayland               [B1]   \n",
       "2  B3  EmissionsCategory.Buildings  Wayland               [B1]   \n",
       "3  B4  EmissionsCategory.Buildings  Wayland               [B3]   \n",
       "\n",
       "                                                                                                                                                                                                                                                                                                                                                          description  \\\n",
       "0                                                                                                                                                                                                                                 Transition municipal buildings to be carbon neutral (use no on-site fossil fuel and, where feasible, generate solar power on-site).   \n",
       "1  Reduce energy use in new construction and rehab. Ensure by 2023 that all new municipal buildings and substantial rehabilitations of existing municipal buildings meet high performing building standards to reduce energy use, decarbonize to use no on-site fossil fuels unless unique circumstance require such fuels, and incorporate climate sensitive design.   \n",
       "2                                                                                                                                                                                                          Implement decarbonization strategies for all existing municipal buildings taking advantage of heating/cooling system replacements and other opportunities.   \n",
       "3                                                                                 Advocate for effective state policies at the state level for significant renewable energy, decarbonization, and building energy efficiency standards and funding to support municipalities and residents in taking decarbonization efforts and achieve environmental justice goals.   \n",
       "\n",
       "                                                                                               document_url  \\\n",
       "0  https://www.wayland.ma.us/sites/g/files/vyhlif9231/f/uploads/wayland_climate_action_plan_june_2022_2.pdf   \n",
       "1  https://www.wayland.ma.us/sites/g/files/vyhlif9231/f/uploads/wayland_climate_action_plan_june_2022_2.pdf   \n",
       "2  https://www.wayland.ma.us/sites/g/files/vyhlif9231/f/uploads/wayland_climate_action_plan_june_2022_2.pdf   \n",
       "3  https://www.wayland.ma.us/sites/g/files/vyhlif9231/f/uploads/wayland_climate_action_plan_june_2022_2.pdf   \n",
       "\n",
       "   page municipality  \n",
       "0     5      Wayland  \n",
       "1     5      Wayland  \n",
       "2     5      Wayland  \n",
       "3     5      Wayland  "
      ]
     },
     "execution_count": 45,
     "metadata": {},
     "output_type": "execute_result"
    }
   ],
   "source": [
    "results_to_actions_table(results5, pages[5], \"Wayland\")"
   ]
  },
  {
   "cell_type": "markdown",
   "metadata": {},
   "source": [
    "### Cost estimate\n",
    "\n",
    "Each page API call took about 3000 tokens. "
   ]
  },
  {
   "cell_type": "code",
   "execution_count": null,
   "metadata": {},
   "outputs": [],
   "source": []
  },
  {
   "cell_type": "code",
   "execution_count": 3,
   "metadata": {},
   "outputs": [],
   "source": [
    "goals = [\n",
    "    Goal(\n",
    "        id=\"B1\",\n",
    "        emissions_category=EmissionsCategory.Buildings,\n",
    "        year=2030,\n",
    "        description=\"Reduce building-related emissions by 50% by 2030.\"\n",
    "    ),\n",
    "    Goal(\n",
    "        id=\"E1\",\n",
    "        emissions_category=EmissionsCategory.Energy,\n",
    "        year=2030,\n",
    "        description=\"Transition to 100% renewable energy by 2030.\"\n",
    "    ),\n",
    "]"
   ]
  },
  {
   "cell_type": "code",
   "execution_count": 8,
   "metadata": {},
   "outputs": [
    {
     "data": {
      "text/html": [
       "<div>\n",
       "<style scoped>\n",
       "    .dataframe tbody tr th:only-of-type {\n",
       "        vertical-align: middle;\n",
       "    }\n",
       "\n",
       "    .dataframe tbody tr th {\n",
       "        vertical-align: top;\n",
       "    }\n",
       "\n",
       "    .dataframe thead th {\n",
       "        text-align: right;\n",
       "    }\n",
       "</style>\n",
       "<table border=\"1\" class=\"dataframe\">\n",
       "  <thead>\n",
       "    <tr style=\"text-align: right;\">\n",
       "      <th></th>\n",
       "      <th>id</th>\n",
       "      <th>emissions_category</th>\n",
       "      <th>year</th>\n",
       "      <th>description</th>\n",
       "    </tr>\n",
       "  </thead>\n",
       "  <tbody>\n",
       "    <tr>\n",
       "      <th>0</th>\n",
       "      <td>B1</td>\n",
       "      <td>EmissionsCategory.Buildings</td>\n",
       "      <td>2030</td>\n",
       "      <td>Reduce building-related emissions by 50% by 2030.</td>\n",
       "    </tr>\n",
       "    <tr>\n",
       "      <th>1</th>\n",
       "      <td>E1</td>\n",
       "      <td>EmissionsCategory.Energy</td>\n",
       "      <td>2030</td>\n",
       "      <td>Transition to 100% renewable energy by 2030.</td>\n",
       "    </tr>\n",
       "  </tbody>\n",
       "</table>\n",
       "</div>"
      ],
      "text/plain": [
       "   id           emissions_category  year  \\\n",
       "0  B1  EmissionsCategory.Buildings  2030   \n",
       "1  E1     EmissionsCategory.Energy  2030   \n",
       "\n",
       "                                         description  \n",
       "0  Reduce building-related emissions by 50% by 2030.  \n",
       "1       Transition to 100% renewable energy by 2030.  "
      ]
     },
     "execution_count": 8,
     "metadata": {},
     "output_type": "execute_result"
    }
   ],
   "source": [
    "import pandas as pd\n",
    "pd.DataFrame([g.dict() for g in goals])"
   ]
  },
  {
   "cell_type": "code",
   "execution_count": 7,
   "metadata": {},
   "outputs": [
    {
     "data": {
      "text/plain": [
       "{'id': 'B1',\n",
       " 'emissions_category': <EmissionsCategory.Buildings: 'B'>,\n",
       " 'year': 2030,\n",
       " 'description': 'Reduce building-related emissions by 50% by 2030.'}"
      ]
     },
     "execution_count": 7,
     "metadata": {},
     "output_type": "execute_result"
    }
   ],
   "source": [
    "goals[0].dict()"
   ]
  },
  {
   "cell_type": "markdown",
   "metadata": {},
   "source": [
    "### Enabling defaults to avoid validation errors"
   ]
  },
  {
   "cell_type": "code",
   "execution_count": 9,
   "metadata": {},
   "outputs": [],
   "source": [
    "test_case_yaml = \"\"\"\n",
    "goals:\n",
    "  - id: N1\n",
    "    emissions_category: L\n",
    "    description: Encourage residents, businesses, and organizations to maintain or increase tree cover, especially around buildings, to reduce energy usage and carbon emissions.\n",
    "    context: Reducing greenhouse gas emissions doesn't just require technology. Nature-based solutions ask the Town, residents, businesses, and organizations to take actions to boost Wayland’s natural landscapes and resources to reduce carbon emissions.\n",
    "  - id: N2\n",
    "    emissions_category: L\n",
    "    description: Encourage property owners and managers to minimize the use of lawns and re-landscape excess lawn areas to increase native plantings for better carbon sequestration.\n",
    "    context: Minimize use of lawns, as they are the least effective landscaping for carbon sequestration. We encourage property owners and managers to right‐size lawn areas to actual uses and to re‐landscape excess lawn areas to increase native plantings.\n",
    "  - id: N3\n",
    "    emissions_category: L\n",
    "    description: Encourage property owners to adopt organic lawn-keeping practices to reduce the need for watering, pesticides, and artificial fertilizers, and increase carbon sequestration in the soil.\n",
    "    context: Adopt organic lawn-keeping practices. We encourage property owners to adopt these practices for mature lawn maintenance, including proper mowing, to reduce or eliminate the need for watering, pesticides, and artificial fertilizers; such practices also can increase carbon sequestration in the soil.\n",
    "strategies:\n",
    "  - id: N4\n",
    "    emissions_category: L\n",
    "    description: Strengthen tree removal regulations to require strict maintenance of tree cover consistent with proper maintenance of critical utilities and town infrastructure to sequester large amounts of carbon.\n",
    "    context: \"Town Actions: Strengthen tree removal regulations to require strict maintenance of tree cover consistent with proper maintenance of critical utilities and town infrastructure. Trees and forested landscapes sequester large amounts of carbon.\"\n",
    "  - id: N5\n",
    "    emissions_category: L\n",
    "    description: Increase the progressivity of water rates to incentivize users to transition to native plantings and enhance carbon sequestration in the plantings and soil.\n",
    "    context: \"Town Actions: Increase the progressivity of water rates. Pumping and treatment of water require energy. Higher usage of water is associated with lawns and other landscaping using non-native plants. Progressive water rates provide an incentive for users to transition to native plantings to enhance carbon sequestration in the plantings and soil.\"\n",
    "  - id: N6\n",
    "    emissions_category: L\n",
    "    description: Consider implementing lawn watering limits for mature lawns to conserve water resources.\n",
    "    context: \"Town Actions: Consider lawn watering limits for mature lawns.\"\n",
    "  - id: N7\n",
    "    emissions_category: L\n",
    "    description: Foster availability of subsidized or free native plants to promote their use in landscaping for better carbon sequestration.\n",
    "    context: \"Town Actions: Foster availability of subsidized or free native plants.\"\n",
    "\"\"\"\n"
   ]
  },
  {
   "cell_type": "code",
   "execution_count": 10,
   "metadata": {},
   "outputs": [],
   "source": [
    "from yaml import safe_load"
   ]
  },
  {
   "cell_type": "code",
   "execution_count": 14,
   "metadata": {},
   "outputs": [],
   "source": [
    "class EmissionsCategory(str, Enum):\n",
    "    Buildings = \"B\"\n",
    "    Energy = \"E\"\n",
    "    Transportation = \"T\"\n",
    "    Waste = \"W\"\n",
    "    LandUse = \"L\"\n",
    "\n",
    "\n",
    "class Goal(BaseModel):\n",
    "    \"\"\"Information about a strategic planning Goal.\n",
    "\n",
    "    Goals are broad, quantifiable outcomes necessary to meet emissions targets and resilience goals.\n",
    "    If the goal does not mention a quantitative target, it is likely a Strategy instead.\n",
    "    \"\"\"\n",
    "\n",
    "    id: str = Field(\n",
    "        description=\"Unique Identifier.  If a Goal ID is given in the text, use this.  Otherwise, the first letter should be emissions_category letter.\"\n",
    "    )\n",
    "    emissions_category: EmissionsCategory = Field(\n",
    "        description=\"\"\"\n",
    "        The category of emissions the goal is associated with, e.g. Buildings, Transportation, Waste or Land Use, Energy.\n",
    "        Select Energy only if no other more specific emission category is mentioned, or if the goal pertains to electricity.\n",
    "        \"\"\"\n",
    "    )\n",
    "    year: Optional[int] = Field(\n",
    "        default=None,\n",
    "        description=\"The year by which the goal should be achieved.\",\n",
    "        ge=2024,\n",
    "        le=2050,\n",
    "    )\n",
    "    description: str = Field(\n",
    "        description=\"A summary description of the goal which must include a measurable, quantitative outcome\",\n",
    "    )\n",
    "    context: str = Field(description=\"Verbatim text from the provided document on which the Goal description is based\")\n",
    "\n",
    "\n",
    "class Strategy(BaseModel):\n",
    "    \"\"\"Information about a strategic planning Strategy.\n",
    "\n",
    "    Strategies define general approaches to make progress toward goals.\n",
    "    They should be specific, but need not necessarily be quantifiable.\n",
    "    They are frequently explicitly labeled as a \"Strategy\" in the text.\n",
    "    However, they are often described in the text as \"Goals\", but with no associated quantitative outcome mentioned.\n",
    "    \"\"\"\n",
    "\n",
    "    id: str = Field(\n",
    "        description=\"Unique Identifier.  If a Strategy ID is given in the text, use this.  Otherwise, the first letter should be emissions_category letter.\"\n",
    "    )\n",
    "    emissions_category: EmissionsCategory = Field(\n",
    "        description=\"\"\"\n",
    "        The category of emissions the goal is associated with, e.g. Buildings, Transportation, Waste or Land Use, Energy.\n",
    "        Select Energy only if no other more specific emission category is mentioned, or if the goal pertains to electricity.\n",
    "        \"\"\"\n",
    "    )\n",
    "    related_goals: Optional[List[str]] = Field(\n",
    "        description=\"A list of goal ids that this strategy is related to\"\n",
    "    )\n",
    "    description: str = Field(default=None, description=\"A description of the strategy\")\n",
    "    context: str = Field(description=\"Verbatim text from the provided document on which the Strategy description is based\")\n",
    "\n",
    "\n",
    "class Action(BaseModel):\n",
    "    \"\"\"Information about a strategic planning Action.\n",
    "\n",
    "    Actions are specific, time-bound steps to implement strategies.\n",
    "    \"\"\"\n",
    "\n",
    "    id: str = Field(\n",
    "        description=\"Unique Identifier.  First category should be emissions_category letter.\"\n",
    "    )\n",
    "    emissions_category: EmissionsCategory = Field(\n",
    "        description=\"The category of emissions the strategy is associated with\"\n",
    "    )\n",
    "    owner: Optional[List[str]] = Field(\n",
    "        default=None,\n",
    "        description=\"The organization or individuals responsible for the action, if known\",\n",
    "    )\n",
    "    related_stragegies: Optional[List[str]] = Field(\n",
    "        default=None,\n",
    "        description=\"A list of strategy ids that this action is related to\"\n",
    "    )\n",
    "    description: str = Field(description=\"A summary description of the action\")\n",
    "    context: str = Field(description=\"Verbatim text from the provided document on which the Action description is based\")"
   ]
  },
  {
   "cell_type": "code",
   "execution_count": 15,
   "metadata": {},
   "outputs": [],
   "source": [
    "class Results(BaseModel):\n",
    "    goals: List[Goal] = []\n",
    "    strategies: List[Strategy] = []\n",
    "    actions: List[Action] = []"
   ]
  },
  {
   "cell_type": "code",
   "execution_count": 16,
   "metadata": {},
   "outputs": [],
   "source": [
    "results = Results(**safe_load(test_case_yaml))"
   ]
  },
  {
   "cell_type": "code",
   "execution_count": 19,
   "metadata": {},
   "outputs": [
    {
     "data": {
      "text/plain": [
       "[Strategy(id='N4', emissions_category=<EmissionsCategory.LandUse: 'L'>, related_goals=None, description='Strengthen tree removal regulations to require strict maintenance of tree cover consistent with proper maintenance of critical utilities and town infrastructure to sequester large amounts of carbon.', context='Town Actions: Strengthen tree removal regulations to require strict maintenance of tree cover consistent with proper maintenance of critical utilities and town infrastructure. Trees and forested landscapes sequester large amounts of carbon.'),\n",
       " Strategy(id='N5', emissions_category=<EmissionsCategory.LandUse: 'L'>, related_goals=None, description='Increase the progressivity of water rates to incentivize users to transition to native plantings and enhance carbon sequestration in the plantings and soil.', context='Town Actions: Increase the progressivity of water rates. Pumping and treatment of water require energy. Higher usage of water is associated with lawns and other landscaping using non-native plants. Progressive water rates provide an incentive for users to transition to native plantings to enhance carbon sequestration in the plantings and soil.'),\n",
       " Strategy(id='N6', emissions_category=<EmissionsCategory.LandUse: 'L'>, related_goals=None, description='Consider implementing lawn watering limits for mature lawns to conserve water resources.', context='Town Actions: Consider lawn watering limits for mature lawns.'),\n",
       " Strategy(id='N7', emissions_category=<EmissionsCategory.LandUse: 'L'>, related_goals=None, description='Foster availability of subsidized or free native plants to promote their use in landscaping for better carbon sequestration.', context='Town Actions: Foster availability of subsidized or free native plants.')]"
      ]
     },
     "execution_count": 19,
     "metadata": {},
     "output_type": "execute_result"
    }
   ],
   "source": [
    "results.strategies"
   ]
  },
  {
   "cell_type": "code",
   "execution_count": 22,
   "metadata": {},
   "outputs": [
    {
     "data": {
      "text/plain": [
       "{'goals': [{'id': 'N1',\n",
       "   'emissions_category': <EmissionsCategory.LandUse: 'L'>,\n",
       "   'year': None,\n",
       "   'description': 'Encourage residents, businesses, and organizations to maintain or increase tree cover, especially around buildings, to reduce energy usage and carbon emissions.',\n",
       "   'context': \"Reducing greenhouse gas emissions doesn't just require technology. Nature-based solutions ask the Town, residents, businesses, and organizations to take actions to boost Wayland’s natural landscapes and resources to reduce carbon emissions.\"},\n",
       "  {'id': 'N2',\n",
       "   'emissions_category': <EmissionsCategory.LandUse: 'L'>,\n",
       "   'year': None,\n",
       "   'description': 'Encourage property owners and managers to minimize the use of lawns and re-landscape excess lawn areas to increase native plantings for better carbon sequestration.',\n",
       "   'context': 'Minimize use of lawns, as they are the least effective landscaping for carbon sequestration. We encourage property owners and managers to right‐size lawn areas to actual uses and to re‐landscape excess lawn areas to increase native plantings.'},\n",
       "  {'id': 'N3',\n",
       "   'emissions_category': <EmissionsCategory.LandUse: 'L'>,\n",
       "   'year': None,\n",
       "   'description': 'Encourage property owners to adopt organic lawn-keeping practices to reduce the need for watering, pesticides, and artificial fertilizers, and increase carbon sequestration in the soil.',\n",
       "   'context': 'Adopt organic lawn-keeping practices. We encourage property owners to adopt these practices for mature lawn maintenance, including proper mowing, to reduce or eliminate the need for watering, pesticides, and artificial fertilizers; such practices also can increase carbon sequestration in the soil.'}],\n",
       " 'strategies': [{'id': 'N4',\n",
       "   'emissions_category': <EmissionsCategory.LandUse: 'L'>,\n",
       "   'related_goals': None,\n",
       "   'description': 'Strengthen tree removal regulations to require strict maintenance of tree cover consistent with proper maintenance of critical utilities and town infrastructure to sequester large amounts of carbon.',\n",
       "   'context': 'Town Actions: Strengthen tree removal regulations to require strict maintenance of tree cover consistent with proper maintenance of critical utilities and town infrastructure. Trees and forested landscapes sequester large amounts of carbon.'},\n",
       "  {'id': 'N5',\n",
       "   'emissions_category': <EmissionsCategory.LandUse: 'L'>,\n",
       "   'related_goals': None,\n",
       "   'description': 'Increase the progressivity of water rates to incentivize users to transition to native plantings and enhance carbon sequestration in the plantings and soil.',\n",
       "   'context': 'Town Actions: Increase the progressivity of water rates. Pumping and treatment of water require energy. Higher usage of water is associated with lawns and other landscaping using non-native plants. Progressive water rates provide an incentive for users to transition to native plantings to enhance carbon sequestration in the plantings and soil.'},\n",
       "  {'id': 'N6',\n",
       "   'emissions_category': <EmissionsCategory.LandUse: 'L'>,\n",
       "   'related_goals': None,\n",
       "   'description': 'Consider implementing lawn watering limits for mature lawns to conserve water resources.',\n",
       "   'context': 'Town Actions: Consider lawn watering limits for mature lawns.'},\n",
       "  {'id': 'N7',\n",
       "   'emissions_category': <EmissionsCategory.LandUse: 'L'>,\n",
       "   'related_goals': None,\n",
       "   'description': 'Foster availability of subsidized or free native plants to promote their use in landscaping for better carbon sequestration.',\n",
       "   'context': 'Town Actions: Foster availability of subsidized or free native plants.'}],\n",
       " 'actions': []}"
      ]
     },
     "execution_count": 22,
     "metadata": {},
     "output_type": "execute_result"
    }
   ],
   "source": [
    "results.dict()"
   ]
  },
  {
   "cell_type": "code",
   "execution_count": 23,
   "metadata": {},
   "outputs": [],
   "source": [
    "import uuid"
   ]
  },
  {
   "cell_type": "code",
   "execution_count": 34,
   "metadata": {},
   "outputs": [
    {
     "data": {
      "text/plain": [
       "'ba40d122-889b-49ee-9009-7a38b1a8c3cb'"
      ]
     },
     "execution_count": 34,
     "metadata": {},
     "output_type": "execute_result"
    }
   ],
   "source": [
    "str(uuid.uuid4())"
   ]
  },
  {
   "cell_type": "code",
   "execution_count": null,
   "metadata": {},
   "outputs": [],
   "source": []
  },
  {
   "cell_type": "code",
   "execution_count": null,
   "metadata": {},
   "outputs": [],
   "source": []
  }
 ],
 "metadata": {
  "kernelspec": {
   "display_name": "llm-learning-pi5fb6Qz-py3.11",
   "language": "python",
   "name": "python3"
  },
  "language_info": {
   "codemirror_mode": {
    "name": "ipython",
    "version": 3
   },
   "file_extension": ".py",
   "mimetype": "text/x-python",
   "name": "python",
   "nbconvert_exporter": "python",
   "pygments_lexer": "ipython3",
   "version": "3.11.6"
  }
 },
 "nbformat": 4,
 "nbformat_minor": 2
}
